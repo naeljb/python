{
 "cells": [
  {
   "cell_type": "markdown",
   "metadata": {},
   "source": [
    "# INTRODUCTION"
   ]
  },
  {
   "cell_type": "markdown",
   "metadata": {},
   "source": [
    "I’m using Python's libraries such as pandas, numpy, math, SCIPY, matplotlib and seaborn for running codes on 3 datasets for understanding, shaping,tranforming  structured data and  to conduct basic data analysis.  It is a work in progress. Therefore, feel free to make changes, edits, contributions, or flag errors on that version. I will look at each suggestion then I will commit and update the suggested code improvements from my side. Do not hesitate to share it with others too. Perhaps based on your experience, you have encountered different questions or operations that may need to be included. Please share them with me, I will be more than happy to work on their illustrative python code. "
   ]
  },
  {
   "cell_type": "code",
   "execution_count": 1,
   "metadata": {},
   "outputs": [],
   "source": [
    "# importing the necessary libraries\n",
    "import pandas as pd\n",
    "import numpy as np\n",
    "import math\n",
    "import scipy.stats as stats\n",
    "import matplotlib.pyplot as plt\n",
    "import seaborn as sns\n",
    "from IPython import display"
   ]
  },
  {
   "cell_type": "markdown",
   "metadata": {},
   "source": [
    "# UNDERSTANDING MY DATASET"
   ]
  },
  {
   "cell_type": "markdown",
   "metadata": {},
   "source": [
    "Often, my dataset is not sitting in my personal computer. They may be on the cloud, on the web, in SharePoint or simply on a server. So, I need to bring first this dataset into my laptop and then get familiar with it.  Reading the code book or metadata is key for understanding my dataset.  However, I can run codes to know (and confirm) the size of my imported dataset, the variables, variable labels, the type of each variable, and getting a sense of missing values as well as generating a preview of  my dataset. "
   ]
  },
  {
   "cell_type": "markdown",
   "metadata": {},
   "source": [
    "Question 1. How do I load my dataset?"
   ]
  },
  {
   "cell_type": "code",
   "execution_count": 2,
   "metadata": {},
   "outputs": [],
   "source": [
    "d = \"https://raw.githubusercontent.com/naeljb/python/main/rawdata.csv\"  # providing the dataset path\n",
    "df = pd.read_csv(d)    # reading the csv file and named as df "
   ]
  },
  {
   "cell_type": "markdown",
   "metadata": {},
   "source": [
    "Question 2. What is the dataset size (number of rows and columns)?"
   ]
  },
  {
   "cell_type": "code",
   "execution_count": 3,
   "metadata": {},
   "outputs": [
    {
     "data": {
      "text/plain": [
       "(38332, 13)"
      ]
     },
     "execution_count": 3,
     "metadata": {},
     "output_type": "execute_result"
    }
   ],
   "source": [
    "df.shape"
   ]
  },
  {
   "cell_type": "markdown",
   "metadata": {},
   "source": [
    "Question 3. How many data points my dataset has (number rows by number of columns) ? "
   ]
  },
  {
   "cell_type": "code",
   "execution_count": 4,
   "metadata": {},
   "outputs": [
    {
     "data": {
      "text/plain": [
       "498316"
      ]
     },
     "execution_count": 4,
     "metadata": {},
     "output_type": "execute_result"
    }
   ],
   "source": [
    "df.size"
   ]
  },
  {
   "cell_type": "markdown",
   "metadata": {},
   "source": [
    "Question 4. How to get the basic info on my dataset (column name, non-null count, data type)?"
   ]
  },
  {
   "cell_type": "code",
   "execution_count": 5,
   "metadata": {
    "scrolled": true
   },
   "outputs": [
    {
     "name": "stdout",
     "output_type": "stream",
     "text": [
      "<class 'pandas.core.frame.DataFrame'>\n",
      "RangeIndex: 38332 entries, 0 to 38331\n",
      "Data columns (total 13 columns):\n",
      " #   Column                                 Non-Null Count  Dtype  \n",
      "---  ------                                 --------------  -----  \n",
      " 0   id                                     38332 non-null  int64  \n",
      " 1   program                                38332 non-null  object \n",
      " 2   recipient_name                         38331 non-null  object \n",
      " 3   sex                                    38331 non-null  object \n",
      " 4   age                                    38331 non-null  float64\n",
      " 5   city                                   38330 non-null  object \n",
      " 6   account_number                         38332 non-null  int64  \n",
      " 7   stage                                  38332 non-null  object \n",
      " 8   vulnerability_level                    38328 non-null  object \n",
      " 9   hh_size                                38332 non-null  int64  \n",
      " 10  district                               38330 non-null  object \n",
      " 11  test_registration##recipient_link_key  38226 non-null  object \n",
      " 12  household_status                       33277 non-null  object \n",
      "dtypes: float64(1), int64(3), object(9)\n",
      "memory usage: 3.8+ MB\n"
     ]
    }
   ],
   "source": [
    "df.info()"
   ]
  },
  {
   "cell_type": "markdown",
   "metadata": {},
   "source": [
    "Question 5. What are & how to view the first five rows of my dataset?"
   ]
  },
  {
   "cell_type": "code",
   "execution_count": 6,
   "metadata": {
    "scrolled": true
   },
   "outputs": [
    {
     "data": {
      "text/html": [
       "<div>\n",
       "<style scoped>\n",
       "    .dataframe tbody tr th:only-of-type {\n",
       "        vertical-align: middle;\n",
       "    }\n",
       "\n",
       "    .dataframe tbody tr th {\n",
       "        vertical-align: top;\n",
       "    }\n",
       "\n",
       "    .dataframe thead th {\n",
       "        text-align: right;\n",
       "    }\n",
       "</style>\n",
       "<table border=\"1\" class=\"dataframe\">\n",
       "  <thead>\n",
       "    <tr style=\"text-align: right;\">\n",
       "      <th></th>\n",
       "      <th>id</th>\n",
       "      <th>program</th>\n",
       "      <th>recipient_name</th>\n",
       "      <th>sex</th>\n",
       "      <th>age</th>\n",
       "      <th>city</th>\n",
       "      <th>account_number</th>\n",
       "      <th>stage</th>\n",
       "      <th>vulnerability_level</th>\n",
       "      <th>hh_size</th>\n",
       "      <th>district</th>\n",
       "      <th>test_registration##recipient_link_key</th>\n",
       "      <th>household_status</th>\n",
       "    </tr>\n",
       "  </thead>\n",
       "  <tbody>\n",
       "    <tr>\n",
       "      <th>0</th>\n",
       "      <td>16569637</td>\n",
       "      <td>test</td>\n",
       "      <td>Bunu</td>\n",
       "      <td>Female</td>\n",
       "      <td>25.0</td>\n",
       "      <td>lake worth</td>\n",
       "      <td>2016569637</td>\n",
       "      <td>selected</td>\n",
       "      <td>None</td>\n",
       "      <td>4</td>\n",
       "      <td>est</td>\n",
       "      <td>000019a4-be59-45e1-a957-0519a6ed4a0b</td>\n",
       "      <td>returnee</td>\n",
       "    </tr>\n",
       "    <tr>\n",
       "      <th>1</th>\n",
       "      <td>12065927</td>\n",
       "      <td>test</td>\n",
       "      <td>Musa</td>\n",
       "      <td>Female</td>\n",
       "      <td>41.0</td>\n",
       "      <td>ngomari ndolori</td>\n",
       "      <td>2012065927</td>\n",
       "      <td>selected</td>\n",
       "      <td>crisis</td>\n",
       "      <td>1</td>\n",
       "      <td>one</td>\n",
       "      <td>0001b8c4-c858-4f5c-b4c7-ad0dc0a6c156</td>\n",
       "      <td>idp</td>\n",
       "    </tr>\n",
       "    <tr>\n",
       "      <th>2</th>\n",
       "      <td>14282086</td>\n",
       "      <td>test</td>\n",
       "      <td>Umar</td>\n",
       "      <td>Male</td>\n",
       "      <td>24.0</td>\n",
       "      <td>miami</td>\n",
       "      <td>2014282086</td>\n",
       "      <td>selected</td>\n",
       "      <td>crisis</td>\n",
       "      <td>12</td>\n",
       "      <td>ouest</td>\n",
       "      <td>0004193c-1d0d-4763-9824-960c62b257b6</td>\n",
       "      <td>idp</td>\n",
       "    </tr>\n",
       "    <tr>\n",
       "      <th>3</th>\n",
       "      <td>17930547</td>\n",
       "      <td>test</td>\n",
       "      <td>ahim</td>\n",
       "      <td>Female</td>\n",
       "      <td>27.0</td>\n",
       "      <td>sabon gari 1</td>\n",
       "      <td>2017930547</td>\n",
       "      <td>selected</td>\n",
       "      <td>None</td>\n",
       "      <td>8</td>\n",
       "      <td>est</td>\n",
       "      <td>00045631-0146-4092-8772-432e03afa4af</td>\n",
       "      <td>idp</td>\n",
       "    </tr>\n",
       "    <tr>\n",
       "      <th>4</th>\n",
       "      <td>16910786</td>\n",
       "      <td>test</td>\n",
       "      <td>Kadi</td>\n",
       "      <td>Female</td>\n",
       "      <td>31.0</td>\n",
       "      <td>mushmiri gana</td>\n",
       "      <td>2016910786</td>\n",
       "      <td>selected</td>\n",
       "      <td>None</td>\n",
       "      <td>8</td>\n",
       "      <td>est</td>\n",
       "      <td>00046e52-0c96-493d-980b-06a9e9ee59d8</td>\n",
       "      <td>idp</td>\n",
       "    </tr>\n",
       "  </tbody>\n",
       "</table>\n",
       "</div>"
      ],
      "text/plain": [
       "         id program recipient_name     sex   age             city  \\\n",
       "0  16569637    test           Bunu  Female  25.0       lake worth   \n",
       "1  12065927    test           Musa  Female  41.0  ngomari ndolori   \n",
       "2  14282086    test           Umar    Male  24.0            miami   \n",
       "3  17930547    test           ahim  Female  27.0     sabon gari 1   \n",
       "4  16910786    test           Kadi  Female  31.0    mushmiri gana   \n",
       "\n",
       "   account_number     stage vulnerability_level  hh_size district  \\\n",
       "0      2016569637  selected                None        4      est   \n",
       "1      2012065927  selected              crisis        1      one   \n",
       "2      2014282086  selected              crisis       12    ouest   \n",
       "3      2017930547  selected                None        8      est   \n",
       "4      2016910786  selected                None        8      est   \n",
       "\n",
       "  test_registration##recipient_link_key household_status  \n",
       "0  000019a4-be59-45e1-a957-0519a6ed4a0b         returnee  \n",
       "1  0001b8c4-c858-4f5c-b4c7-ad0dc0a6c156              idp  \n",
       "2  0004193c-1d0d-4763-9824-960c62b257b6              idp  \n",
       "3  00045631-0146-4092-8772-432e03afa4af              idp  \n",
       "4  00046e52-0c96-493d-980b-06a9e9ee59d8              idp  "
      ]
     },
     "execution_count": 6,
     "metadata": {},
     "output_type": "execute_result"
    }
   ],
   "source": [
    "df.head()"
   ]
  },
  {
   "cell_type": "markdown",
   "metadata": {},
   "source": [
    "Question 6. What are & how to view the last two rows of my dataset?"
   ]
  },
  {
   "cell_type": "code",
   "execution_count": 7,
   "metadata": {},
   "outputs": [
    {
     "data": {
      "text/html": [
       "<div>\n",
       "<style scoped>\n",
       "    .dataframe tbody tr th:only-of-type {\n",
       "        vertical-align: middle;\n",
       "    }\n",
       "\n",
       "    .dataframe tbody tr th {\n",
       "        vertical-align: top;\n",
       "    }\n",
       "\n",
       "    .dataframe thead th {\n",
       "        text-align: right;\n",
       "    }\n",
       "</style>\n",
       "<table border=\"1\" class=\"dataframe\">\n",
       "  <thead>\n",
       "    <tr style=\"text-align: right;\">\n",
       "      <th></th>\n",
       "      <th>id</th>\n",
       "      <th>program</th>\n",
       "      <th>recipient_name</th>\n",
       "      <th>sex</th>\n",
       "      <th>age</th>\n",
       "      <th>city</th>\n",
       "      <th>account_number</th>\n",
       "      <th>stage</th>\n",
       "      <th>vulnerability_level</th>\n",
       "      <th>hh_size</th>\n",
       "      <th>district</th>\n",
       "      <th>test_registration##recipient_link_key</th>\n",
       "      <th>household_status</th>\n",
       "    </tr>\n",
       "  </thead>\n",
       "  <tbody>\n",
       "    <tr>\n",
       "      <th>38330</th>\n",
       "      <td>11154224</td>\n",
       "      <td>test</td>\n",
       "      <td>muru</td>\n",
       "      <td>Female</td>\n",
       "      <td>32.0</td>\n",
       "      <td>cap dubai</td>\n",
       "      <td>2011154224</td>\n",
       "      <td>selected</td>\n",
       "      <td>crisis</td>\n",
       "      <td>4</td>\n",
       "      <td>one</td>\n",
       "      <td>fffbf9ab-aea6-4b60-98c2-811d92e584cf</td>\n",
       "      <td>NaN</td>\n",
       "    </tr>\n",
       "    <tr>\n",
       "      <th>38331</th>\n",
       "      <td>15749502</td>\n",
       "      <td>test</td>\n",
       "      <td>Musa</td>\n",
       "      <td>Female</td>\n",
       "      <td>22.0</td>\n",
       "      <td>dakar</td>\n",
       "      <td>2115749502</td>\n",
       "      <td>selected</td>\n",
       "      <td>None</td>\n",
       "      <td>7</td>\n",
       "      <td>est</td>\n",
       "      <td>fffedbe4-512a-4237-88bb-6c1a6fc88713</td>\n",
       "      <td>idp</td>\n",
       "    </tr>\n",
       "  </tbody>\n",
       "</table>\n",
       "</div>"
      ],
      "text/plain": [
       "             id program recipient_name     sex   age       city  \\\n",
       "38330  11154224    test           muru  Female  32.0  cap dubai   \n",
       "38331  15749502    test           Musa  Female  22.0      dakar   \n",
       "\n",
       "       account_number     stage vulnerability_level  hh_size district  \\\n",
       "38330      2011154224  selected              crisis        4      one   \n",
       "38331      2115749502  selected                None        7      est   \n",
       "\n",
       "      test_registration##recipient_link_key household_status  \n",
       "38330  fffbf9ab-aea6-4b60-98c2-811d92e584cf              NaN  \n",
       "38331  fffedbe4-512a-4237-88bb-6c1a6fc88713              idp  "
      ]
     },
     "execution_count": 7,
     "metadata": {},
     "output_type": "execute_result"
    }
   ],
   "source": [
    "df.tail(2)"
   ]
  },
  {
   "cell_type": "markdown",
   "metadata": {},
   "source": [
    "Question 7. What are the columns name/headers of my dataset?"
   ]
  },
  {
   "cell_type": "code",
   "execution_count": 8,
   "metadata": {},
   "outputs": [
    {
     "data": {
      "text/plain": [
       "array(['id', 'program', 'recipient_name', 'sex', 'age', 'city',\n",
       "       'account_number', 'stage', 'vulnerability_level', 'hh_size',\n",
       "       'district', 'test_registration##recipient_link_key',\n",
       "       'household_status'], dtype=object)"
      ]
     },
     "execution_count": 8,
     "metadata": {},
     "output_type": "execute_result"
    }
   ],
   "source": [
    "df.columns.values"
   ]
  },
  {
   "cell_type": "markdown",
   "metadata": {},
   "source": [
    "Question 8. What is the type of data in each column ?"
   ]
  },
  {
   "cell_type": "code",
   "execution_count": 9,
   "metadata": {},
   "outputs": [
    {
     "data": {
      "text/plain": [
       "id                                         int64\n",
       "program                                   object\n",
       "recipient_name                            object\n",
       "sex                                       object\n",
       "age                                      float64\n",
       "city                                      object\n",
       "account_number                             int64\n",
       "stage                                     object\n",
       "vulnerability_level                       object\n",
       "hh_size                                    int64\n",
       "district                                  object\n",
       "test_registration##recipient_link_key     object\n",
       "household_status                          object\n",
       "dtype: object"
      ]
     },
     "execution_count": 9,
     "metadata": {},
     "output_type": "execute_result"
    }
   ],
   "source": [
    "df.dtypes"
   ]
  },
  {
   "cell_type": "markdown",
   "metadata": {},
   "source": [
    "Question 9. What are the different value names in a column (ex: district column in my df dataset)?\n"
   ]
  },
  {
   "cell_type": "code",
   "execution_count": 10,
   "metadata": {},
   "outputs": [
    {
     "data": {
      "text/plain": [
       "array(['est', 'one', 'ouest', 'zero', nan], dtype=object)"
      ]
     },
     "execution_count": 10,
     "metadata": {},
     "output_type": "execute_result"
    }
   ],
   "source": [
    "df['district'].unique()"
   ]
  },
  {
   "cell_type": "markdown",
   "metadata": {},
   "source": [
    "Question 10. Are there missing values and how many are there in each column of my dataset?"
   ]
  },
  {
   "cell_type": "code",
   "execution_count": 11,
   "metadata": {},
   "outputs": [
    {
     "data": {
      "text/plain": [
       "id                                          0\n",
       "program                                     0\n",
       "recipient_name                              1\n",
       "sex                                         1\n",
       "age                                         1\n",
       "city                                        2\n",
       "account_number                              0\n",
       "stage                                       0\n",
       "vulnerability_level                         4\n",
       "hh_size                                     0\n",
       "district                                    2\n",
       "test_registration##recipient_link_key     106\n",
       "household_status                         5055\n",
       "dtype: int64"
      ]
     },
     "execution_count": 11,
     "metadata": {},
     "output_type": "execute_result"
    }
   ],
   "source": [
    "df.isnull().sum()"
   ]
  },
  {
   "cell_type": "markdown",
   "metadata": {},
   "source": [
    "# SHAPING  MY DATASET"
   ]
  },
  {
   "cell_type": "markdown",
   "metadata": {},
   "source": [
    "Data shaping is the phase that I should perform once I get familiar with my data, and become aware of possible pitfalls within the data that I'm  planning to use for my  analysis and application of Machin Leraning. In most simple words, data shaping is the process of consolidation of the data, BEFORE it becomes part of my data analysis. "
   ]
  },
  {
   "cell_type": "markdown",
   "metadata": {},
   "source": [
    "Question 11. How to create a  new dataset which is a subset of columns of my main dataset ?"
   ]
  },
  {
   "cell_type": "code",
   "execution_count": 12,
   "metadata": {},
   "outputs": [
    {
     "data": {
      "text/html": [
       "<div>\n",
       "<style scoped>\n",
       "    .dataframe tbody tr th:only-of-type {\n",
       "        vertical-align: middle;\n",
       "    }\n",
       "\n",
       "    .dataframe tbody tr th {\n",
       "        vertical-align: top;\n",
       "    }\n",
       "\n",
       "    .dataframe thead th {\n",
       "        text-align: right;\n",
       "    }\n",
       "</style>\n",
       "<table border=\"1\" class=\"dataframe\">\n",
       "  <thead>\n",
       "    <tr style=\"text-align: right;\">\n",
       "      <th></th>\n",
       "      <th>district</th>\n",
       "      <th>sex</th>\n",
       "      <th>age</th>\n",
       "      <th>hh_size</th>\n",
       "    </tr>\n",
       "  </thead>\n",
       "  <tbody>\n",
       "    <tr>\n",
       "      <th>0</th>\n",
       "      <td>est</td>\n",
       "      <td>Female</td>\n",
       "      <td>25.0</td>\n",
       "      <td>4</td>\n",
       "    </tr>\n",
       "    <tr>\n",
       "      <th>1</th>\n",
       "      <td>one</td>\n",
       "      <td>Female</td>\n",
       "      <td>41.0</td>\n",
       "      <td>1</td>\n",
       "    </tr>\n",
       "    <tr>\n",
       "      <th>2</th>\n",
       "      <td>ouest</td>\n",
       "      <td>Male</td>\n",
       "      <td>24.0</td>\n",
       "      <td>12</td>\n",
       "    </tr>\n",
       "    <tr>\n",
       "      <th>3</th>\n",
       "      <td>est</td>\n",
       "      <td>Female</td>\n",
       "      <td>27.0</td>\n",
       "      <td>8</td>\n",
       "    </tr>\n",
       "    <tr>\n",
       "      <th>4</th>\n",
       "      <td>est</td>\n",
       "      <td>Female</td>\n",
       "      <td>31.0</td>\n",
       "      <td>8</td>\n",
       "    </tr>\n",
       "  </tbody>\n",
       "</table>\n",
       "</div>"
      ],
      "text/plain": [
       "  district     sex   age  hh_size\n",
       "0      est  Female  25.0        4\n",
       "1      one  Female  41.0        1\n",
       "2    ouest    Male  24.0       12\n",
       "3      est  Female  27.0        8\n",
       "4      est  Female  31.0        8"
      ]
     },
     "execution_count": 12,
     "metadata": {},
     "output_type": "execute_result"
    }
   ],
   "source": [
    "subset =df[['district','sex','age','hh_size']]   # code option 1\n",
    "subset.head()    # viewing the first five row of my newly created subset"
   ]
  },
  {
   "cell_type": "code",
   "execution_count": 13,
   "metadata": {},
   "outputs": [
    {
     "data": {
      "text/html": [
       "<div>\n",
       "<style scoped>\n",
       "    .dataframe tbody tr th:only-of-type {\n",
       "        vertical-align: middle;\n",
       "    }\n",
       "\n",
       "    .dataframe tbody tr th {\n",
       "        vertical-align: top;\n",
       "    }\n",
       "\n",
       "    .dataframe thead th {\n",
       "        text-align: right;\n",
       "    }\n",
       "</style>\n",
       "<table border=\"1\" class=\"dataframe\">\n",
       "  <thead>\n",
       "    <tr style=\"text-align: right;\">\n",
       "      <th></th>\n",
       "      <th>district</th>\n",
       "      <th>sex</th>\n",
       "      <th>age</th>\n",
       "      <th>hh_size</th>\n",
       "    </tr>\n",
       "  </thead>\n",
       "  <tbody>\n",
       "    <tr>\n",
       "      <th>0</th>\n",
       "      <td>est</td>\n",
       "      <td>Female</td>\n",
       "      <td>25.0</td>\n",
       "      <td>4</td>\n",
       "    </tr>\n",
       "    <tr>\n",
       "      <th>1</th>\n",
       "      <td>one</td>\n",
       "      <td>Female</td>\n",
       "      <td>41.0</td>\n",
       "      <td>1</td>\n",
       "    </tr>\n",
       "    <tr>\n",
       "      <th>2</th>\n",
       "      <td>ouest</td>\n",
       "      <td>Male</td>\n",
       "      <td>24.0</td>\n",
       "      <td>12</td>\n",
       "    </tr>\n",
       "    <tr>\n",
       "      <th>3</th>\n",
       "      <td>est</td>\n",
       "      <td>Female</td>\n",
       "      <td>27.0</td>\n",
       "      <td>8</td>\n",
       "    </tr>\n",
       "    <tr>\n",
       "      <th>4</th>\n",
       "      <td>est</td>\n",
       "      <td>Female</td>\n",
       "      <td>31.0</td>\n",
       "      <td>8</td>\n",
       "    </tr>\n",
       "  </tbody>\n",
       "</table>\n",
       "</div>"
      ],
      "text/plain": [
       "  district     sex   age  hh_size\n",
       "0      est  Female  25.0        4\n",
       "1      one  Female  41.0        1\n",
       "2    ouest    Male  24.0       12\n",
       "3      est  Female  27.0        8\n",
       "4      est  Female  31.0        8"
      ]
     },
     "execution_count": 13,
     "metadata": {},
     "output_type": "execute_result"
    }
   ],
   "source": [
    "subset1 =df.loc[:,['district','sex','age','hh_size']]  # Code option 2\n",
    "subset1.head()"
   ]
  },
  {
   "cell_type": "markdown",
   "metadata": {},
   "source": [
    "Question 12. How to input a datset directly (i.e : not importing it from the web or my local machin)?"
   ]
  },
  {
   "cell_type": "code",
   "execution_count": 14,
   "metadata": {},
   "outputs": [
    {
     "data": {
      "text/html": [
       "<div>\n",
       "<style scoped>\n",
       "    .dataframe tbody tr th:only-of-type {\n",
       "        vertical-align: middle;\n",
       "    }\n",
       "\n",
       "    .dataframe tbody tr th {\n",
       "        vertical-align: top;\n",
       "    }\n",
       "\n",
       "    .dataframe thead th {\n",
       "        text-align: right;\n",
       "    }\n",
       "</style>\n",
       "<table border=\"1\" class=\"dataframe\">\n",
       "  <thead>\n",
       "    <tr style=\"text-align: right;\">\n",
       "      <th></th>\n",
       "      <th>c</th>\n",
       "      <th>b</th>\n",
       "      <th>income</th>\n",
       "    </tr>\n",
       "  </thead>\n",
       "  <tbody>\n",
       "    <tr>\n",
       "      <th>0</th>\n",
       "      <td>1</td>\n",
       "      <td>5</td>\n",
       "      <td>9</td>\n",
       "    </tr>\n",
       "    <tr>\n",
       "      <th>1</th>\n",
       "      <td>2</td>\n",
       "      <td>6</td>\n",
       "      <td>10</td>\n",
       "    </tr>\n",
       "    <tr>\n",
       "      <th>2</th>\n",
       "      <td>3</td>\n",
       "      <td>7</td>\n",
       "      <td>11</td>\n",
       "    </tr>\n",
       "    <tr>\n",
       "      <th>3</th>\n",
       "      <td>4</td>\n",
       "      <td>8</td>\n",
       "      <td>12</td>\n",
       "    </tr>\n",
       "    <tr>\n",
       "      <th>4</th>\n",
       "      <td>5</td>\n",
       "      <td>5</td>\n",
       "      <td>5</td>\n",
       "    </tr>\n",
       "    <tr>\n",
       "      <th>5</th>\n",
       "      <td>8</td>\n",
       "      <td>6</td>\n",
       "      <td>6</td>\n",
       "    </tr>\n",
       "    <tr>\n",
       "      <th>6</th>\n",
       "      <td>15</td>\n",
       "      <td>7</td>\n",
       "      <td>7</td>\n",
       "    </tr>\n",
       "    <tr>\n",
       "      <th>7</th>\n",
       "      <td>45</td>\n",
       "      <td>8</td>\n",
       "      <td>9</td>\n",
       "    </tr>\n",
       "    <tr>\n",
       "      <th>8</th>\n",
       "      <td>7</td>\n",
       "      <td>9</td>\n",
       "      <td>5</td>\n",
       "    </tr>\n",
       "    <tr>\n",
       "      <th>9</th>\n",
       "      <td>3</td>\n",
       "      <td>10</td>\n",
       "      <td>45</td>\n",
       "    </tr>\n",
       "  </tbody>\n",
       "</table>\n",
       "</div>"
      ],
      "text/plain": [
       "    c   b  income\n",
       "0   1   5       9\n",
       "1   2   6      10\n",
       "2   3   7      11\n",
       "3   4   8      12\n",
       "4   5   5       5\n",
       "5   8   6       6\n",
       "6  15   7       7\n",
       "7  45   8       9\n",
       "8   7   9       5\n",
       "9   3  10      45"
      ]
     },
     "execution_count": 14,
     "metadata": {},
     "output_type": "execute_result"
    }
   ],
   "source": [
    "d1 = {'c':[1,2,3,4,5,8,15,45,7,3],'b':[5,6,7,8,5,6,7,8,9,10],'income':[9,10,11,12,5,6,7,9,5,45]}\n",
    "pre_test =pd.DataFrame(d1)  # creating a dataset named pre_test from inputed data d1\n",
    "pre_test"
   ]
  },
  {
   "cell_type": "code",
   "execution_count": 15,
   "metadata": {},
   "outputs": [
    {
     "data": {
      "text/html": [
       "<div>\n",
       "<style scoped>\n",
       "    .dataframe tbody tr th:only-of-type {\n",
       "        vertical-align: middle;\n",
       "    }\n",
       "\n",
       "    .dataframe tbody tr th {\n",
       "        vertical-align: top;\n",
       "    }\n",
       "\n",
       "    .dataframe thead th {\n",
       "        text-align: right;\n",
       "    }\n",
       "</style>\n",
       "<table border=\"1\" class=\"dataframe\">\n",
       "  <thead>\n",
       "    <tr style=\"text-align: right;\">\n",
       "      <th></th>\n",
       "      <th>income</th>\n",
       "      <th>b</th>\n",
       "      <th>c</th>\n",
       "    </tr>\n",
       "  </thead>\n",
       "  <tbody>\n",
       "    <tr>\n",
       "      <th>0</th>\n",
       "      <td>1</td>\n",
       "      <td>5</td>\n",
       "      <td>9</td>\n",
       "    </tr>\n",
       "    <tr>\n",
       "      <th>1</th>\n",
       "      <td>2</td>\n",
       "      <td>6</td>\n",
       "      <td>10</td>\n",
       "    </tr>\n",
       "    <tr>\n",
       "      <th>2</th>\n",
       "      <td>3</td>\n",
       "      <td>7</td>\n",
       "      <td>11</td>\n",
       "    </tr>\n",
       "    <tr>\n",
       "      <th>3</th>\n",
       "      <td>4</td>\n",
       "      <td>8</td>\n",
       "      <td>12</td>\n",
       "    </tr>\n",
       "    <tr>\n",
       "      <th>4</th>\n",
       "      <td>7</td>\n",
       "      <td>89</td>\n",
       "      <td>1</td>\n",
       "    </tr>\n",
       "    <tr>\n",
       "      <th>5</th>\n",
       "      <td>9</td>\n",
       "      <td>5</td>\n",
       "      <td>6</td>\n",
       "    </tr>\n",
       "    <tr>\n",
       "      <th>6</th>\n",
       "      <td>6</td>\n",
       "      <td>74</td>\n",
       "      <td>7</td>\n",
       "    </tr>\n",
       "    <tr>\n",
       "      <th>7</th>\n",
       "      <td>45</td>\n",
       "      <td>90</td>\n",
       "      <td>8</td>\n",
       "    </tr>\n",
       "    <tr>\n",
       "      <th>8</th>\n",
       "      <td>5</td>\n",
       "      <td>22</td>\n",
       "      <td>9</td>\n",
       "    </tr>\n",
       "    <tr>\n",
       "      <th>9</th>\n",
       "      <td>12</td>\n",
       "      <td>11</td>\n",
       "      <td>11</td>\n",
       "    </tr>\n",
       "  </tbody>\n",
       "</table>\n",
       "</div>"
      ],
      "text/plain": [
       "   income   b   c\n",
       "0       1   5   9\n",
       "1       2   6  10\n",
       "2       3   7  11\n",
       "3       4   8  12\n",
       "4       7  89   1\n",
       "5       9   5   6\n",
       "6       6  74   7\n",
       "7      45  90   8\n",
       "8       5  22   9\n",
       "9      12  11  11"
      ]
     },
     "execution_count": 15,
     "metadata": {},
     "output_type": "execute_result"
    }
   ],
   "source": [
    "d2 = {'income':[1,2,3,4,7,9,6,45,5,12],'b':[5,6,7,8,89,5,74,90,22,11],'c':[9,10,11,12,1,6,7,8,9,11]}\n",
    "post_test =pd.DataFrame(d2) #  # creating a dataset named post_test from inputed data d2\n",
    "post_test"
   ]
  },
  {
   "cell_type": "markdown",
   "metadata": {},
   "source": [
    "Question 13. How to re-order the columns in a dataset? "
   ]
  },
  {
   "cell_type": "code",
   "execution_count": 16,
   "metadata": {},
   "outputs": [
    {
     "data": {
      "text/html": [
       "<div>\n",
       "<style scoped>\n",
       "    .dataframe tbody tr th:only-of-type {\n",
       "        vertical-align: middle;\n",
       "    }\n",
       "\n",
       "    .dataframe tbody tr th {\n",
       "        vertical-align: top;\n",
       "    }\n",
       "\n",
       "    .dataframe thead th {\n",
       "        text-align: right;\n",
       "    }\n",
       "</style>\n",
       "<table border=\"1\" class=\"dataframe\">\n",
       "  <thead>\n",
       "    <tr style=\"text-align: right;\">\n",
       "      <th></th>\n",
       "      <th>income</th>\n",
       "      <th>b</th>\n",
       "      <th>c</th>\n",
       "    </tr>\n",
       "  </thead>\n",
       "  <tbody>\n",
       "    <tr>\n",
       "      <th>0</th>\n",
       "      <td>9</td>\n",
       "      <td>5</td>\n",
       "      <td>1</td>\n",
       "    </tr>\n",
       "    <tr>\n",
       "      <th>1</th>\n",
       "      <td>10</td>\n",
       "      <td>6</td>\n",
       "      <td>2</td>\n",
       "    </tr>\n",
       "    <tr>\n",
       "      <th>2</th>\n",
       "      <td>11</td>\n",
       "      <td>7</td>\n",
       "      <td>3</td>\n",
       "    </tr>\n",
       "    <tr>\n",
       "      <th>3</th>\n",
       "      <td>12</td>\n",
       "      <td>8</td>\n",
       "      <td>4</td>\n",
       "    </tr>\n",
       "    <tr>\n",
       "      <th>4</th>\n",
       "      <td>5</td>\n",
       "      <td>5</td>\n",
       "      <td>5</td>\n",
       "    </tr>\n",
       "    <tr>\n",
       "      <th>5</th>\n",
       "      <td>6</td>\n",
       "      <td>6</td>\n",
       "      <td>8</td>\n",
       "    </tr>\n",
       "    <tr>\n",
       "      <th>6</th>\n",
       "      <td>7</td>\n",
       "      <td>7</td>\n",
       "      <td>15</td>\n",
       "    </tr>\n",
       "    <tr>\n",
       "      <th>7</th>\n",
       "      <td>9</td>\n",
       "      <td>8</td>\n",
       "      <td>45</td>\n",
       "    </tr>\n",
       "    <tr>\n",
       "      <th>8</th>\n",
       "      <td>5</td>\n",
       "      <td>9</td>\n",
       "      <td>7</td>\n",
       "    </tr>\n",
       "    <tr>\n",
       "      <th>9</th>\n",
       "      <td>45</td>\n",
       "      <td>10</td>\n",
       "      <td>3</td>\n",
       "    </tr>\n",
       "  </tbody>\n",
       "</table>\n",
       "</div>"
      ],
      "text/plain": [
       "   income   b   c\n",
       "0       9   5   1\n",
       "1      10   6   2\n",
       "2      11   7   3\n",
       "3      12   8   4\n",
       "4       5   5   5\n",
       "5       6   6   8\n",
       "6       7   7  15\n",
       "7       9   8  45\n",
       "8       5   9   7\n",
       "9      45  10   3"
      ]
     },
     "execution_count": 16,
     "metadata": {},
     "output_type": "execute_result"
    }
   ],
   "source": [
    "# How to re-order the columns in a dataset? \n",
    "pre_test=pre_test[['income','b','c']]\n",
    "pre_test"
   ]
  },
  {
   "cell_type": "markdown",
   "metadata": {},
   "source": [
    "Question 14. How to append two datasets?    "
   ]
  },
  {
   "cell_type": "code",
   "execution_count": 17,
   "metadata": {},
   "outputs": [
    {
     "data": {
      "text/html": [
       "<div>\n",
       "<style scoped>\n",
       "    .dataframe tbody tr th:only-of-type {\n",
       "        vertical-align: middle;\n",
       "    }\n",
       "\n",
       "    .dataframe tbody tr th {\n",
       "        vertical-align: top;\n",
       "    }\n",
       "\n",
       "    .dataframe thead th {\n",
       "        text-align: right;\n",
       "    }\n",
       "</style>\n",
       "<table border=\"1\" class=\"dataframe\">\n",
       "  <thead>\n",
       "    <tr style=\"text-align: right;\">\n",
       "      <th></th>\n",
       "      <th>income</th>\n",
       "      <th>b</th>\n",
       "      <th>c</th>\n",
       "    </tr>\n",
       "  </thead>\n",
       "  <tbody>\n",
       "    <tr>\n",
       "      <th>0</th>\n",
       "      <td>9</td>\n",
       "      <td>5</td>\n",
       "      <td>1</td>\n",
       "    </tr>\n",
       "    <tr>\n",
       "      <th>1</th>\n",
       "      <td>10</td>\n",
       "      <td>6</td>\n",
       "      <td>2</td>\n",
       "    </tr>\n",
       "    <tr>\n",
       "      <th>2</th>\n",
       "      <td>11</td>\n",
       "      <td>7</td>\n",
       "      <td>3</td>\n",
       "    </tr>\n",
       "    <tr>\n",
       "      <th>3</th>\n",
       "      <td>12</td>\n",
       "      <td>8</td>\n",
       "      <td>4</td>\n",
       "    </tr>\n",
       "    <tr>\n",
       "      <th>4</th>\n",
       "      <td>5</td>\n",
       "      <td>5</td>\n",
       "      <td>5</td>\n",
       "    </tr>\n",
       "    <tr>\n",
       "      <th>5</th>\n",
       "      <td>6</td>\n",
       "      <td>6</td>\n",
       "      <td>8</td>\n",
       "    </tr>\n",
       "    <tr>\n",
       "      <th>6</th>\n",
       "      <td>7</td>\n",
       "      <td>7</td>\n",
       "      <td>15</td>\n",
       "    </tr>\n",
       "    <tr>\n",
       "      <th>7</th>\n",
       "      <td>9</td>\n",
       "      <td>8</td>\n",
       "      <td>45</td>\n",
       "    </tr>\n",
       "    <tr>\n",
       "      <th>8</th>\n",
       "      <td>5</td>\n",
       "      <td>9</td>\n",
       "      <td>7</td>\n",
       "    </tr>\n",
       "    <tr>\n",
       "      <th>9</th>\n",
       "      <td>45</td>\n",
       "      <td>10</td>\n",
       "      <td>3</td>\n",
       "    </tr>\n",
       "    <tr>\n",
       "      <th>0</th>\n",
       "      <td>1</td>\n",
       "      <td>5</td>\n",
       "      <td>9</td>\n",
       "    </tr>\n",
       "    <tr>\n",
       "      <th>1</th>\n",
       "      <td>2</td>\n",
       "      <td>6</td>\n",
       "      <td>10</td>\n",
       "    </tr>\n",
       "    <tr>\n",
       "      <th>2</th>\n",
       "      <td>3</td>\n",
       "      <td>7</td>\n",
       "      <td>11</td>\n",
       "    </tr>\n",
       "    <tr>\n",
       "      <th>3</th>\n",
       "      <td>4</td>\n",
       "      <td>8</td>\n",
       "      <td>12</td>\n",
       "    </tr>\n",
       "    <tr>\n",
       "      <th>4</th>\n",
       "      <td>7</td>\n",
       "      <td>89</td>\n",
       "      <td>1</td>\n",
       "    </tr>\n",
       "    <tr>\n",
       "      <th>5</th>\n",
       "      <td>9</td>\n",
       "      <td>5</td>\n",
       "      <td>6</td>\n",
       "    </tr>\n",
       "    <tr>\n",
       "      <th>6</th>\n",
       "      <td>6</td>\n",
       "      <td>74</td>\n",
       "      <td>7</td>\n",
       "    </tr>\n",
       "    <tr>\n",
       "      <th>7</th>\n",
       "      <td>45</td>\n",
       "      <td>90</td>\n",
       "      <td>8</td>\n",
       "    </tr>\n",
       "    <tr>\n",
       "      <th>8</th>\n",
       "      <td>5</td>\n",
       "      <td>22</td>\n",
       "      <td>9</td>\n",
       "    </tr>\n",
       "    <tr>\n",
       "      <th>9</th>\n",
       "      <td>12</td>\n",
       "      <td>11</td>\n",
       "      <td>11</td>\n",
       "    </tr>\n",
       "  </tbody>\n",
       "</table>\n",
       "</div>"
      ],
      "text/plain": [
       "   income   b   c\n",
       "0       9   5   1\n",
       "1      10   6   2\n",
       "2      11   7   3\n",
       "3      12   8   4\n",
       "4       5   5   5\n",
       "5       6   6   8\n",
       "6       7   7  15\n",
       "7       9   8  45\n",
       "8       5   9   7\n",
       "9      45  10   3\n",
       "0       1   5   9\n",
       "1       2   6  10\n",
       "2       3   7  11\n",
       "3       4   8  12\n",
       "4       7  89   1\n",
       "5       9   5   6\n",
       "6       6  74   7\n",
       "7      45  90   8\n",
       "8       5  22   9\n",
       "9      12  11  11"
      ]
     },
     "execution_count": 17,
     "metadata": {},
     "output_type": "execute_result"
    }
   ],
   "source": [
    "# How to append two datasets?\n",
    "df_appended = pd.concat([pre_test,post_test]) # appending pre and post test dateset\n",
    "df_appended"
   ]
  },
  {
   "cell_type": "markdown",
   "metadata": {},
   "source": [
    "Question 15. How to pivot columns in rows ?"
   ]
  },
  {
   "cell_type": "markdown",
   "metadata": {},
   "source": [
    "Often data found on the web is not in the appropriate format and desire shape to conduct your analysis.  The figure below illustrates a shaping operation in which you want to create a new dataset where a column needs to be considered as an index and the value of another one as a column header and a third one as the value in this table.   "
   ]
  },
  {
   "cell_type": "code",
   "execution_count": 18,
   "metadata": {},
   "outputs": [
    {
     "data": {
      "image/png": "[encoded data removed]",
      "text/plain": [
       "<IPython.core.display.Image object>"
      ]
     },
     "execution_count": 18,
     "metadata": {},
     "output_type": "execute_result"
    }
   ],
   "source": [
    "display.Image(\"C:/Users/Nael/Desktop/Fourth Article/pivoting.png\")"
   ]
  },
  {
   "cell_type": "code",
   "execution_count": 19,
   "metadata": {},
   "outputs": [
    {
     "data": {
      "text/html": [
       "<div>\n",
       "<style scoped>\n",
       "    .dataframe tbody tr th:only-of-type {\n",
       "        vertical-align: middle;\n",
       "    }\n",
       "\n",
       "    .dataframe tbody tr th {\n",
       "        vertical-align: top;\n",
       "    }\n",
       "\n",
       "    .dataframe thead th {\n",
       "        text-align: right;\n",
       "    }\n",
       "</style>\n",
       "<table border=\"1\" class=\"dataframe\">\n",
       "  <thead>\n",
       "    <tr style=\"text-align: right;\">\n",
       "      <th></th>\n",
       "      <th>fff</th>\n",
       "      <th>bbb</th>\n",
       "      <th>baa</th>\n",
       "      <th>zzz</th>\n",
       "    </tr>\n",
       "  </thead>\n",
       "  <tbody>\n",
       "    <tr>\n",
       "      <th>0</th>\n",
       "      <td>one</td>\n",
       "      <td>P</td>\n",
       "      <td>2</td>\n",
       "      <td>h</td>\n",
       "    </tr>\n",
       "    <tr>\n",
       "      <th>1</th>\n",
       "      <td>one</td>\n",
       "      <td>Q</td>\n",
       "      <td>3</td>\n",
       "      <td>i</td>\n",
       "    </tr>\n",
       "    <tr>\n",
       "      <th>2</th>\n",
       "      <td>one</td>\n",
       "      <td>R</td>\n",
       "      <td>4</td>\n",
       "      <td>j</td>\n",
       "    </tr>\n",
       "    <tr>\n",
       "      <th>3</th>\n",
       "      <td>two</td>\n",
       "      <td>P</td>\n",
       "      <td>5</td>\n",
       "      <td>k</td>\n",
       "    </tr>\n",
       "    <tr>\n",
       "      <th>4</th>\n",
       "      <td>two</td>\n",
       "      <td>Q</td>\n",
       "      <td>6</td>\n",
       "      <td>l</td>\n",
       "    </tr>\n",
       "    <tr>\n",
       "      <th>5</th>\n",
       "      <td>two</td>\n",
       "      <td>R</td>\n",
       "      <td>7</td>\n",
       "      <td>m</td>\n",
       "    </tr>\n",
       "  </tbody>\n",
       "</table>\n",
       "</div>"
      ],
      "text/plain": [
       "   fff bbb  baa zzz\n",
       "0  one   P    2   h\n",
       "1  one   Q    3   i\n",
       "2  one   R    4   j\n",
       "3  two   P    5   k\n",
       "4  two   Q    6   l\n",
       "5  two   R    7   m"
      ]
     },
     "execution_count": 19,
     "metadata": {},
     "output_type": "execute_result"
    }
   ],
   "source": [
    "table = pd.DataFrame({'fff': ['one', 'one', 'one', 'two', 'two',\n",
    "                           'two'],\n",
    "                   'bbb': ['P', 'Q', 'R', 'P', 'Q', 'R'],\n",
    "                   'baa': [2, 3, 4, 5, 6, 7],\n",
    "                   'zzz': ['h', 'i', 'j', 'k', 'l', 'm']})\n",
    "table"
   ]
  },
  {
   "cell_type": "markdown",
   "metadata": {},
   "source": [
    "The pivot() function is used to reshaped a given DataFrame organized by given index / column values. This function does not support data aggregation, multiple values will result in a MultiIndex in the columns."
   ]
  },
  {
   "cell_type": "code",
   "execution_count": 20,
   "metadata": {},
   "outputs": [
    {
     "data": {
      "text/html": [
       "<div>\n",
       "<style scoped>\n",
       "    .dataframe tbody tr th:only-of-type {\n",
       "        vertical-align: middle;\n",
       "    }\n",
       "\n",
       "    .dataframe tbody tr th {\n",
       "        vertical-align: top;\n",
       "    }\n",
       "\n",
       "    .dataframe thead th {\n",
       "        text-align: right;\n",
       "    }\n",
       "</style>\n",
       "<table border=\"1\" class=\"dataframe\">\n",
       "  <thead>\n",
       "    <tr style=\"text-align: right;\">\n",
       "      <th>bbb</th>\n",
       "      <th>P</th>\n",
       "      <th>Q</th>\n",
       "      <th>R</th>\n",
       "    </tr>\n",
       "    <tr>\n",
       "      <th>fff</th>\n",
       "      <th></th>\n",
       "      <th></th>\n",
       "      <th></th>\n",
       "    </tr>\n",
       "  </thead>\n",
       "  <tbody>\n",
       "    <tr>\n",
       "      <th>one</th>\n",
       "      <td>2</td>\n",
       "      <td>3</td>\n",
       "      <td>4</td>\n",
       "    </tr>\n",
       "    <tr>\n",
       "      <th>two</th>\n",
       "      <td>5</td>\n",
       "      <td>6</td>\n",
       "      <td>7</td>\n",
       "    </tr>\n",
       "  </tbody>\n",
       "</table>\n",
       "</div>"
      ],
      "text/plain": [
       "bbb  P  Q  R\n",
       "fff         \n",
       "one  2  3  4\n",
       "two  5  6  7"
      ]
     },
     "execution_count": 20,
     "metadata": {},
     "output_type": "execute_result"
    }
   ],
   "source": [
    "p_table =table.pivot(index='fff', columns='bbb', values='baa')\n",
    "p_table"
   ]
  },
  {
   "cell_type": "markdown",
   "metadata": {},
   "source": [
    "Question 16. How to drop columns in a dataset?"
   ]
  },
  {
   "cell_type": "code",
   "execution_count": 21,
   "metadata": {},
   "outputs": [],
   "source": [
    "df=df.drop(['program','test_registration##recipient_link_key'], axis=1)"
   ]
  },
  {
   "cell_type": "markdown",
   "metadata": {},
   "source": [
    "Question 17. How to remove rows that meet certain conditions (can be used for data cleaning and mining) ? "
   ]
  },
  {
   "cell_type": "code",
   "execution_count": 22,
   "metadata": {},
   "outputs": [],
   "source": [
    " df =df[(df['age']>=18) & (df['age']<=24) & (df['city']!='miami')] # removing all people aged between 18-23 years old  in miami "
   ]
  },
  {
   "cell_type": "code",
   "execution_count": 23,
   "metadata": {},
   "outputs": [
    {
     "data": {
      "text/plain": [
       "(5305, 11)"
      ]
     },
     "execution_count": 23,
     "metadata": {},
     "output_type": "execute_result"
    }
   ],
   "source": [
    "df.shape # checking the new size of my dataset after removing"
   ]
  },
  {
   "cell_type": "markdown",
   "metadata": {},
   "source": [
    "Question 18. How to generate a random number column? "
   ]
  },
  {
   "cell_type": "code",
   "execution_count": 24,
   "metadata": {},
   "outputs": [
    {
     "name": "stdout",
     "output_type": "stream",
     "text": [
      "          id  random\n",
      "8   15358786    2356\n",
      "13  11369273    3796\n",
      "36  13122645    4232\n",
      "37  14179654    1210\n",
      "39  15741839    1870    Note: new random numbers provided everytime function is run\n"
     ]
    },
    {
     "name": "stderr",
     "output_type": "stream",
     "text": [
      "<ipython-input-24-9627b3f86f49>:3: SettingWithCopyWarning: \n",
      "A value is trying to be set on a copy of a slice from a DataFrame.\n",
      "Try using .loc[row_indexer,col_indexer] = value instead\n",
      "\n",
      "See the caveats in the documentation: https://pandas.pydata.org/pandas-docs/stable/user_guide/indexing.html#returning-a-view-versus-a-copy\n",
      "  df1['random'] = np.random.randint(100,5000,size=(len(df1),1))\n"
     ]
    }
   ],
   "source": [
    "df1 = df[['id']] # here I'm creating a subset with Id to which after I will add a random number between 100 to 5000\n",
    "\n",
    "df1['random'] = np.random.randint(100,5000,size=(len(df1),1))\n",
    "\n",
    "print(df1.head(),'   Note: new random numbers provided everytime function is run')"
   ]
  },
  {
   "cell_type": "markdown",
   "metadata": {},
   "source": [
    "Question 19. How to rename columns? "
   ]
  },
  {
   "cell_type": "code",
   "execution_count": 25,
   "metadata": {},
   "outputs": [
    {
     "data": {
      "text/html": [
       "<div>\n",
       "<style scoped>\n",
       "    .dataframe tbody tr th:only-of-type {\n",
       "        vertical-align: middle;\n",
       "    }\n",
       "\n",
       "    .dataframe tbody tr th {\n",
       "        vertical-align: top;\n",
       "    }\n",
       "\n",
       "    .dataframe thead th {\n",
       "        text-align: right;\n",
       "    }\n",
       "</style>\n",
       "<table border=\"1\" class=\"dataframe\">\n",
       "  <thead>\n",
       "    <tr style=\"text-align: right;\">\n",
       "      <th></th>\n",
       "      <th>id</th>\n",
       "      <th>name</th>\n",
       "      <th>sex</th>\n",
       "      <th>age</th>\n",
       "      <th>city</th>\n",
       "      <th>account</th>\n",
       "      <th>stage</th>\n",
       "      <th>vulnerability</th>\n",
       "      <th>size</th>\n",
       "      <th>district</th>\n",
       "      <th>status</th>\n",
       "    </tr>\n",
       "  </thead>\n",
       "  <tbody>\n",
       "    <tr>\n",
       "      <th>8</th>\n",
       "      <td>15358786</td>\n",
       "      <td>ktar</td>\n",
       "      <td>Female</td>\n",
       "      <td>22.0</td>\n",
       "      <td>lagonav</td>\n",
       "      <td>2115358786</td>\n",
       "      <td>selected</td>\n",
       "      <td>None</td>\n",
       "      <td>4</td>\n",
       "      <td>est</td>\n",
       "      <td>host</td>\n",
       "    </tr>\n",
       "    <tr>\n",
       "      <th>13</th>\n",
       "      <td>11369273</td>\n",
       "      <td>iman</td>\n",
       "      <td>Female</td>\n",
       "      <td>20.0</td>\n",
       "      <td>cap dubai</td>\n",
       "      <td>2011369273</td>\n",
       "      <td>selected</td>\n",
       "      <td>crisis</td>\n",
       "      <td>3</td>\n",
       "      <td>one</td>\n",
       "      <td>NaN</td>\n",
       "    </tr>\n",
       "  </tbody>\n",
       "</table>\n",
       "</div>"
      ],
      "text/plain": [
       "          id  name     sex   age       city     account     stage  \\\n",
       "8   15358786  ktar  Female  22.0    lagonav  2115358786  selected   \n",
       "13  11369273  iman  Female  20.0  cap dubai  2011369273  selected   \n",
       "\n",
       "   vulnerability  size district status  \n",
       "8           None     4      est   host  \n",
       "13        crisis     3      one    NaN  "
      ]
     },
     "execution_count": 25,
     "metadata": {},
     "output_type": "execute_result"
    }
   ],
   "source": [
    "df.rename(columns={'recipient_name':'name','account_number':'account','vulnerability_level':'vulnerability','hh_size':'size','household_status':'status'},inplace=True)\n",
    "df.head(2)"
   ]
  },
  {
   "cell_type": "markdown",
   "metadata": {},
   "source": [
    "Question 20. How to create a dataset that returns  matching rows from two datasets (merge-inner joint)? "
   ]
  },
  {
   "cell_type": "code",
   "execution_count": 26,
   "metadata": {},
   "outputs": [
    {
     "name": "stdout",
     "output_type": "stream",
     "text": [
      "         id  name     sex   age       city     account     stage  \\\n",
      "0  15358786  ktar  Female  22.0    lagonav  2115358786  selected   \n",
      "1  11369273  iman  Female  20.0  cap dubai  2011369273  selected   \n",
      "\n",
      "  vulnerability  size district status  random  \n",
      "0          None     4      est   host    2356  \n",
      "1        crisis     3      one    NaN    3796    Note: You lose rows that don’t have a match in\n"
     ]
    }
   ],
   "source": [
    "df2 = pd.merge(df,df1) \n",
    "print(df2.head(2), ' Note: You lose rows that don’t have a match in')"
   ]
  },
  {
   "cell_type": "markdown",
   "metadata": {},
   "source": [
    "For more on shaping dataset using pandas:  https://www.w3resource.com/pandas/dataframe/dataframe.php"
   ]
  },
  {
   "cell_type": "markdown",
   "metadata": {},
   "source": [
    "# TRANSFORMING  MY DATA"
   ]
  },
  {
   "cell_type": "markdown",
   "metadata": {},
   "source": [
    "Data transformation is the process of changing the format, structure, or values of data. Data transformation may be constructive (adding, copying, and replicating data), destructive (deleting fields and records), aesthetic , or structural (renaming, moving, and combining columns in a database). In some cases and depending of the situation, data transformation may be part of data shaping.  "
   ]
  },
  {
   "cell_type": "markdown",
   "metadata": {},
   "source": [
    "Question 21. How to change the type of data of a column ?"
   ]
  },
  {
   "cell_type": "code",
   "execution_count": 27,
   "metadata": {},
   "outputs": [],
   "source": [
    "df['age']=df['age'].astype('int') # from float to integer\n",
    "df['id'] = df['id'].astype('float') # from integer to float"
   ]
  },
  {
   "cell_type": "markdown",
   "metadata": {},
   "source": [
    "Question 22. How to replace missing values in a column by the mean ?"
   ]
  },
  {
   "cell_type": "code",
   "execution_count": 28,
   "metadata": {},
   "outputs": [
    {
     "data": {
      "text/plain": [
       "20.939679547596608"
      ]
     },
     "execution_count": 28,
     "metadata": {},
     "output_type": "execute_result"
    }
   ],
   "source": [
    "mean_age = df['age'].mean(axis=0)  # creating a variable mean (ex: for age)\n",
    "mean_age"
   ]
  },
  {
   "cell_type": "code",
   "execution_count": 29,
   "metadata": {},
   "outputs": [],
   "source": [
    "df['age'].replace(np.nan,mean_age,inplace =True) # replacing all missing value by mean variable"
   ]
  },
  {
   "cell_type": "markdown",
   "metadata": {},
   "source": [
    "Question 23. How to replace missing values in a column by the most frequent value in that column?"
   ]
  },
  {
   "cell_type": "code",
   "execution_count": 30,
   "metadata": {},
   "outputs": [
    {
     "data": {
      "text/plain": [
       "est      2031\n",
       "ouest    1649\n",
       "one      1499\n",
       "zero      126\n",
       "Name: district, dtype: int64"
      ]
     },
     "execution_count": 30,
     "metadata": {},
     "output_type": "execute_result"
    }
   ],
   "source": [
    "df['district'].value_counts() # checking the frequency for each value label in my column"
   ]
  },
  {
   "cell_type": "code",
   "execution_count": 31,
   "metadata": {},
   "outputs": [
    {
     "data": {
      "text/plain": [
       "'est'"
      ]
     },
     "execution_count": 31,
     "metadata": {},
     "output_type": "execute_result"
    }
   ],
   "source": [
    "df['district'].value_counts().idxmax() # checking  max frequency in that colum"
   ]
  },
  {
   "cell_type": "code",
   "execution_count": 32,
   "metadata": {},
   "outputs": [],
   "source": [
    "df['district'].replace(np.nan,'est',inplace =True) # replacing missing value by the most frequent value identified"
   ]
  },
  {
   "cell_type": "markdown",
   "metadata": {},
   "source": [
    "24. How to add a new column by applying an operation on another column? "
   ]
  },
  {
   "cell_type": "code",
   "execution_count": 33,
   "metadata": {},
   "outputs": [
    {
     "data": {
      "text/html": [
       "<div>\n",
       "<style scoped>\n",
       "    .dataframe tbody tr th:only-of-type {\n",
       "        vertical-align: middle;\n",
       "    }\n",
       "\n",
       "    .dataframe tbody tr th {\n",
       "        vertical-align: top;\n",
       "    }\n",
       "\n",
       "    .dataframe thead th {\n",
       "        text-align: right;\n",
       "    }\n",
       "</style>\n",
       "<table border=\"1\" class=\"dataframe\">\n",
       "  <thead>\n",
       "    <tr style=\"text-align: right;\">\n",
       "      <th></th>\n",
       "      <th>id</th>\n",
       "      <th>name</th>\n",
       "      <th>sex</th>\n",
       "      <th>age</th>\n",
       "      <th>city</th>\n",
       "      <th>account</th>\n",
       "      <th>stage</th>\n",
       "      <th>vulnerability</th>\n",
       "      <th>size</th>\n",
       "      <th>district</th>\n",
       "      <th>status</th>\n",
       "      <th>indirect_bene</th>\n",
       "    </tr>\n",
       "  </thead>\n",
       "  <tbody>\n",
       "    <tr>\n",
       "      <th>8</th>\n",
       "      <td>15358786.0</td>\n",
       "      <td>ktar</td>\n",
       "      <td>Female</td>\n",
       "      <td>22</td>\n",
       "      <td>lagonav</td>\n",
       "      <td>2115358786</td>\n",
       "      <td>selected</td>\n",
       "      <td>None</td>\n",
       "      <td>4</td>\n",
       "      <td>est</td>\n",
       "      <td>host</td>\n",
       "      <td>20</td>\n",
       "    </tr>\n",
       "    <tr>\n",
       "      <th>13</th>\n",
       "      <td>11369273.0</td>\n",
       "      <td>iman</td>\n",
       "      <td>Female</td>\n",
       "      <td>20</td>\n",
       "      <td>cap dubai</td>\n",
       "      <td>2011369273</td>\n",
       "      <td>selected</td>\n",
       "      <td>crisis</td>\n",
       "      <td>3</td>\n",
       "      <td>one</td>\n",
       "      <td>NaN</td>\n",
       "      <td>15</td>\n",
       "    </tr>\n",
       "  </tbody>\n",
       "</table>\n",
       "</div>"
      ],
      "text/plain": [
       "            id  name     sex  age       city     account     stage  \\\n",
       "8   15358786.0  ktar  Female   22    lagonav  2115358786  selected   \n",
       "13  11369273.0  iman  Female   20  cap dubai  2011369273  selected   \n",
       "\n",
       "   vulnerability  size district status  indirect_bene  \n",
       "8           None     4      est   host             20  \n",
       "13        crisis     3      one    NaN             15  "
      ]
     },
     "execution_count": 33,
     "metadata": {},
     "output_type": "execute_result"
    }
   ],
   "source": [
    "df['indirect_bene']=df['size']*5  # creating a new column called inderect_ben which is the size multiply by 5\n",
    "df.head(2)"
   ]
  },
  {
   "cell_type": "markdown",
   "metadata": {},
   "source": [
    "Question 25. How to add a new column that contains a single value ? "
   ]
  },
  {
   "cell_type": "code",
   "execution_count": 34,
   "metadata": {},
   "outputs": [
    {
     "data": {
      "text/html": [
       "<div>\n",
       "<style scoped>\n",
       "    .dataframe tbody tr th:only-of-type {\n",
       "        vertical-align: middle;\n",
       "    }\n",
       "\n",
       "    .dataframe tbody tr th {\n",
       "        vertical-align: top;\n",
       "    }\n",
       "\n",
       "    .dataframe thead th {\n",
       "        text-align: right;\n",
       "    }\n",
       "</style>\n",
       "<table border=\"1\" class=\"dataframe\">\n",
       "  <thead>\n",
       "    <tr style=\"text-align: right;\">\n",
       "      <th></th>\n",
       "      <th>id</th>\n",
       "      <th>name</th>\n",
       "      <th>sex</th>\n",
       "      <th>age</th>\n",
       "      <th>city</th>\n",
       "      <th>account</th>\n",
       "      <th>stage</th>\n",
       "      <th>vulnerability</th>\n",
       "      <th>size</th>\n",
       "      <th>district</th>\n",
       "      <th>status</th>\n",
       "      <th>indirect_bene</th>\n",
       "      <th>beneficiaries</th>\n",
       "    </tr>\n",
       "  </thead>\n",
       "  <tbody>\n",
       "    <tr>\n",
       "      <th>8</th>\n",
       "      <td>15358786.0</td>\n",
       "      <td>ktar</td>\n",
       "      <td>Female</td>\n",
       "      <td>22</td>\n",
       "      <td>lagonav</td>\n",
       "      <td>2115358786</td>\n",
       "      <td>selected</td>\n",
       "      <td>None</td>\n",
       "      <td>4</td>\n",
       "      <td>est</td>\n",
       "      <td>host</td>\n",
       "      <td>20</td>\n",
       "      <td>1</td>\n",
       "    </tr>\n",
       "    <tr>\n",
       "      <th>13</th>\n",
       "      <td>11369273.0</td>\n",
       "      <td>iman</td>\n",
       "      <td>Female</td>\n",
       "      <td>20</td>\n",
       "      <td>cap dubai</td>\n",
       "      <td>2011369273</td>\n",
       "      <td>selected</td>\n",
       "      <td>crisis</td>\n",
       "      <td>3</td>\n",
       "      <td>one</td>\n",
       "      <td>NaN</td>\n",
       "      <td>15</td>\n",
       "      <td>1</td>\n",
       "    </tr>\n",
       "  </tbody>\n",
       "</table>\n",
       "</div>"
      ],
      "text/plain": [
       "            id  name     sex  age       city     account     stage  \\\n",
       "8   15358786.0  ktar  Female   22    lagonav  2115358786  selected   \n",
       "13  11369273.0  iman  Female   20  cap dubai  2011369273  selected   \n",
       "\n",
       "   vulnerability  size district status  indirect_bene beneficiaries  \n",
       "8           None     4      est   host             20             1  \n",
       "13        crisis     3      one    NaN             15             1  "
      ]
     },
     "execution_count": 34,
     "metadata": {},
     "output_type": "execute_result"
    }
   ],
   "source": [
    "df['beneficiaries'] = '1' # creating a new column called beneficiary that contains a value 1\n",
    "df.head(2)"
   ]
  },
  {
   "cell_type": "markdown",
   "metadata": {},
   "source": [
    "Question 26. How to create a new column  that returns a value based on a single condition applied to another column?"
   ]
  },
  {
   "cell_type": "code",
   "execution_count": 35,
   "metadata": {},
   "outputs": [
    {
     "data": {
      "text/html": [
       "<div>\n",
       "<style scoped>\n",
       "    .dataframe tbody tr th:only-of-type {\n",
       "        vertical-align: middle;\n",
       "    }\n",
       "\n",
       "    .dataframe tbody tr th {\n",
       "        vertical-align: top;\n",
       "    }\n",
       "\n",
       "    .dataframe thead th {\n",
       "        text-align: right;\n",
       "    }\n",
       "</style>\n",
       "<table border=\"1\" class=\"dataframe\">\n",
       "  <thead>\n",
       "    <tr style=\"text-align: right;\">\n",
       "      <th></th>\n",
       "      <th>id</th>\n",
       "      <th>name</th>\n",
       "      <th>sex</th>\n",
       "      <th>age</th>\n",
       "      <th>city</th>\n",
       "      <th>account</th>\n",
       "      <th>stage</th>\n",
       "      <th>vulnerability</th>\n",
       "      <th>size</th>\n",
       "      <th>district</th>\n",
       "      <th>status</th>\n",
       "      <th>indirect_bene</th>\n",
       "      <th>beneficiaries</th>\n",
       "      <th>adulte</th>\n",
       "    </tr>\n",
       "  </thead>\n",
       "  <tbody>\n",
       "    <tr>\n",
       "      <th>8</th>\n",
       "      <td>15358786.0</td>\n",
       "      <td>ktar</td>\n",
       "      <td>Female</td>\n",
       "      <td>22</td>\n",
       "      <td>lagonav</td>\n",
       "      <td>2115358786</td>\n",
       "      <td>selected</td>\n",
       "      <td>None</td>\n",
       "      <td>4</td>\n",
       "      <td>est</td>\n",
       "      <td>host</td>\n",
       "      <td>20</td>\n",
       "      <td>1</td>\n",
       "      <td>yes</td>\n",
       "    </tr>\n",
       "    <tr>\n",
       "      <th>13</th>\n",
       "      <td>11369273.0</td>\n",
       "      <td>iman</td>\n",
       "      <td>Female</td>\n",
       "      <td>20</td>\n",
       "      <td>cap dubai</td>\n",
       "      <td>2011369273</td>\n",
       "      <td>selected</td>\n",
       "      <td>crisis</td>\n",
       "      <td>3</td>\n",
       "      <td>one</td>\n",
       "      <td>NaN</td>\n",
       "      <td>15</td>\n",
       "      <td>1</td>\n",
       "      <td>yes</td>\n",
       "    </tr>\n",
       "  </tbody>\n",
       "</table>\n",
       "</div>"
      ],
      "text/plain": [
       "            id  name     sex  age       city     account     stage  \\\n",
       "8   15358786.0  ktar  Female   22    lagonav  2115358786  selected   \n",
       "13  11369273.0  iman  Female   20  cap dubai  2011369273  selected   \n",
       "\n",
       "   vulnerability  size district status  indirect_bene beneficiaries adulte  \n",
       "8           None     4      est   host             20             1   yes   \n",
       "13        crisis     3      one    NaN             15             1   yes   "
      ]
     },
     "execution_count": 35,
     "metadata": {},
     "output_type": "execute_result"
    }
   ],
   "source": [
    "df['adulte']= df['age'].apply(lambda x: 'yes ' if x >18 else 'no') #  Code Option 1 \n",
    "df.head(2)"
   ]
  },
  {
   "cell_type": "code",
   "execution_count": 36,
   "metadata": {},
   "outputs": [
    {
     "data": {
      "text/html": [
       "<div>\n",
       "<style scoped>\n",
       "    .dataframe tbody tr th:only-of-type {\n",
       "        vertical-align: middle;\n",
       "    }\n",
       "\n",
       "    .dataframe tbody tr th {\n",
       "        vertical-align: top;\n",
       "    }\n",
       "\n",
       "    .dataframe thead th {\n",
       "        text-align: right;\n",
       "    }\n",
       "</style>\n",
       "<table border=\"1\" class=\"dataframe\">\n",
       "  <thead>\n",
       "    <tr style=\"text-align: right;\">\n",
       "      <th></th>\n",
       "      <th>id</th>\n",
       "      <th>name</th>\n",
       "      <th>sex</th>\n",
       "      <th>age</th>\n",
       "      <th>city</th>\n",
       "      <th>account</th>\n",
       "      <th>stage</th>\n",
       "      <th>vulnerability</th>\n",
       "      <th>size</th>\n",
       "      <th>district</th>\n",
       "      <th>status</th>\n",
       "      <th>indirect_bene</th>\n",
       "      <th>beneficiaries</th>\n",
       "      <th>adulte</th>\n",
       "      <th>adulte1</th>\n",
       "    </tr>\n",
       "  </thead>\n",
       "  <tbody>\n",
       "    <tr>\n",
       "      <th>8</th>\n",
       "      <td>15358786.0</td>\n",
       "      <td>ktar</td>\n",
       "      <td>Female</td>\n",
       "      <td>22</td>\n",
       "      <td>lagonav</td>\n",
       "      <td>2115358786</td>\n",
       "      <td>selected</td>\n",
       "      <td>None</td>\n",
       "      <td>4</td>\n",
       "      <td>est</td>\n",
       "      <td>host</td>\n",
       "      <td>20</td>\n",
       "      <td>1</td>\n",
       "      <td>yes</td>\n",
       "      <td>1</td>\n",
       "    </tr>\n",
       "    <tr>\n",
       "      <th>13</th>\n",
       "      <td>11369273.0</td>\n",
       "      <td>iman</td>\n",
       "      <td>Female</td>\n",
       "      <td>20</td>\n",
       "      <td>cap dubai</td>\n",
       "      <td>2011369273</td>\n",
       "      <td>selected</td>\n",
       "      <td>crisis</td>\n",
       "      <td>3</td>\n",
       "      <td>one</td>\n",
       "      <td>NaN</td>\n",
       "      <td>15</td>\n",
       "      <td>1</td>\n",
       "      <td>yes</td>\n",
       "      <td>1</td>\n",
       "    </tr>\n",
       "  </tbody>\n",
       "</table>\n",
       "</div>"
      ],
      "text/plain": [
       "            id  name     sex  age       city     account     stage  \\\n",
       "8   15358786.0  ktar  Female   22    lagonav  2115358786  selected   \n",
       "13  11369273.0  iman  Female   20  cap dubai  2011369273  selected   \n",
       "\n",
       "   vulnerability  size district status  indirect_bene beneficiaries adulte  \\\n",
       "8           None     4      est   host             20             1   yes    \n",
       "13        crisis     3      one    NaN             15             1   yes    \n",
       "\n",
       "    adulte1  \n",
       "8         1  \n",
       "13        1  "
      ]
     },
     "execution_count": 36,
     "metadata": {},
     "output_type": "execute_result"
    }
   ],
   "source": [
    "def age_range(a):              # Code option 2\n",
    "    if a['age'] > 18:\n",
    "        return 1\n",
    "    else:\n",
    "        return 0\n",
    "\n",
    "df ['adulte1'] =df.apply(age_range,axis=1)\n",
    "df.head(2)"
   ]
  },
  {
   "cell_type": "markdown",
   "metadata": {},
   "source": [
    "Question 27. How to create a new column  that returns a value based on multiple conditions applied to another column?"
   ]
  },
  {
   "cell_type": "code",
   "execution_count": 37,
   "metadata": {
    "scrolled": true
   },
   "outputs": [
    {
     "data": {
      "text/html": [
       "<div>\n",
       "<style scoped>\n",
       "    .dataframe tbody tr th:only-of-type {\n",
       "        vertical-align: middle;\n",
       "    }\n",
       "\n",
       "    .dataframe tbody tr th {\n",
       "        vertical-align: top;\n",
       "    }\n",
       "\n",
       "    .dataframe thead th {\n",
       "        text-align: right;\n",
       "    }\n",
       "</style>\n",
       "<table border=\"1\" class=\"dataframe\">\n",
       "  <thead>\n",
       "    <tr style=\"text-align: right;\">\n",
       "      <th></th>\n",
       "      <th>id</th>\n",
       "      <th>name</th>\n",
       "      <th>sex</th>\n",
       "      <th>age</th>\n",
       "      <th>city</th>\n",
       "      <th>account</th>\n",
       "      <th>stage</th>\n",
       "      <th>vulnerability</th>\n",
       "      <th>size</th>\n",
       "      <th>district</th>\n",
       "      <th>status</th>\n",
       "      <th>indirect_bene</th>\n",
       "      <th>beneficiaries</th>\n",
       "      <th>adulte</th>\n",
       "      <th>adulte1</th>\n",
       "      <th>youth</th>\n",
       "    </tr>\n",
       "  </thead>\n",
       "  <tbody>\n",
       "    <tr>\n",
       "      <th>8</th>\n",
       "      <td>15358786.0</td>\n",
       "      <td>ktar</td>\n",
       "      <td>Female</td>\n",
       "      <td>22</td>\n",
       "      <td>lagonav</td>\n",
       "      <td>2115358786</td>\n",
       "      <td>selected</td>\n",
       "      <td>None</td>\n",
       "      <td>4</td>\n",
       "      <td>est</td>\n",
       "      <td>host</td>\n",
       "      <td>20</td>\n",
       "      <td>1</td>\n",
       "      <td>yes</td>\n",
       "      <td>1</td>\n",
       "      <td>1</td>\n",
       "    </tr>\n",
       "    <tr>\n",
       "      <th>13</th>\n",
       "      <td>11369273.0</td>\n",
       "      <td>iman</td>\n",
       "      <td>Female</td>\n",
       "      <td>20</td>\n",
       "      <td>cap dubai</td>\n",
       "      <td>2011369273</td>\n",
       "      <td>selected</td>\n",
       "      <td>crisis</td>\n",
       "      <td>3</td>\n",
       "      <td>one</td>\n",
       "      <td>NaN</td>\n",
       "      <td>15</td>\n",
       "      <td>1</td>\n",
       "      <td>yes</td>\n",
       "      <td>1</td>\n",
       "      <td>1</td>\n",
       "    </tr>\n",
       "  </tbody>\n",
       "</table>\n",
       "</div>"
      ],
      "text/plain": [
       "            id  name     sex  age       city     account     stage  \\\n",
       "8   15358786.0  ktar  Female   22    lagonav  2115358786  selected   \n",
       "13  11369273.0  iman  Female   20  cap dubai  2011369273  selected   \n",
       "\n",
       "   vulnerability  size district status  indirect_bene beneficiaries adulte  \\\n",
       "8           None     4      est   host             20             1   yes    \n",
       "13        crisis     3      one    NaN             15             1   yes    \n",
       "\n",
       "    adulte1  youth  \n",
       "8         1      1  \n",
       "13        1      1  "
      ]
     },
     "execution_count": 37,
     "metadata": {},
     "output_type": "execute_result"
    }
   ],
   "source": [
    "# how to create a new column with multiple conditions applied to another column?\n",
    "def age_range1(b):\n",
    "    if b['age'] > 11 and b['age']<30:\n",
    "        return 1\n",
    "    else:\n",
    "        return 0\n",
    "\n",
    "df ['youth'] =df.apply(age_range1,axis=1)\n",
    "df.head(2)"
   ]
  },
  {
   "cell_type": "markdown",
   "metadata": {},
   "source": [
    "Question 28. How to create a new column by changing the value labels of another column?"
   ]
  },
  {
   "cell_type": "code",
   "execution_count": 38,
   "metadata": {},
   "outputs": [
    {
     "data": {
      "text/html": [
       "<div>\n",
       "<style scoped>\n",
       "    .dataframe tbody tr th:only-of-type {\n",
       "        vertical-align: middle;\n",
       "    }\n",
       "\n",
       "    .dataframe tbody tr th {\n",
       "        vertical-align: top;\n",
       "    }\n",
       "\n",
       "    .dataframe thead th {\n",
       "        text-align: right;\n",
       "    }\n",
       "</style>\n",
       "<table border=\"1\" class=\"dataframe\">\n",
       "  <thead>\n",
       "    <tr style=\"text-align: right;\">\n",
       "      <th></th>\n",
       "      <th>id</th>\n",
       "      <th>name</th>\n",
       "      <th>sex</th>\n",
       "      <th>age</th>\n",
       "      <th>city</th>\n",
       "      <th>account</th>\n",
       "      <th>stage</th>\n",
       "      <th>vulnerability</th>\n",
       "      <th>size</th>\n",
       "      <th>district</th>\n",
       "      <th>status</th>\n",
       "      <th>indirect_bene</th>\n",
       "      <th>beneficiaries</th>\n",
       "      <th>adulte</th>\n",
       "      <th>adulte1</th>\n",
       "      <th>youth</th>\n",
       "      <th>sex_num</th>\n",
       "    </tr>\n",
       "  </thead>\n",
       "  <tbody>\n",
       "    <tr>\n",
       "      <th>8</th>\n",
       "      <td>15358786.0</td>\n",
       "      <td>ktar</td>\n",
       "      <td>Female</td>\n",
       "      <td>22</td>\n",
       "      <td>lagonav</td>\n",
       "      <td>2115358786</td>\n",
       "      <td>selected</td>\n",
       "      <td>None</td>\n",
       "      <td>4</td>\n",
       "      <td>est</td>\n",
       "      <td>host</td>\n",
       "      <td>20</td>\n",
       "      <td>1</td>\n",
       "      <td>yes</td>\n",
       "      <td>1</td>\n",
       "      <td>1</td>\n",
       "      <td>0</td>\n",
       "    </tr>\n",
       "    <tr>\n",
       "      <th>13</th>\n",
       "      <td>11369273.0</td>\n",
       "      <td>iman</td>\n",
       "      <td>Female</td>\n",
       "      <td>20</td>\n",
       "      <td>cap dubai</td>\n",
       "      <td>2011369273</td>\n",
       "      <td>selected</td>\n",
       "      <td>crisis</td>\n",
       "      <td>3</td>\n",
       "      <td>one</td>\n",
       "      <td>NaN</td>\n",
       "      <td>15</td>\n",
       "      <td>1</td>\n",
       "      <td>yes</td>\n",
       "      <td>1</td>\n",
       "      <td>1</td>\n",
       "      <td>0</td>\n",
       "    </tr>\n",
       "  </tbody>\n",
       "</table>\n",
       "</div>"
      ],
      "text/plain": [
       "            id  name     sex  age       city     account     stage  \\\n",
       "8   15358786.0  ktar  Female   22    lagonav  2115358786  selected   \n",
       "13  11369273.0  iman  Female   20  cap dubai  2011369273  selected   \n",
       "\n",
       "   vulnerability  size district status  indirect_bene beneficiaries adulte  \\\n",
       "8           None     4      est   host             20             1   yes    \n",
       "13        crisis     3      one    NaN             15             1   yes    \n",
       "\n",
       "    adulte1  youth  sex_num  \n",
       "8         1      1        0  \n",
       "13        1      1        0  "
      ]
     },
     "execution_count": 38,
     "metadata": {},
     "output_type": "execute_result"
    }
   ],
   "source": [
    "df['sex_num']=df.sex.map({'Female':0,'Male':1})\n",
    "df.head(2)"
   ]
  },
  {
   "cell_type": "markdown",
   "metadata": {},
   "source": [
    "Question 29. How to save the extracted, shaped and transformed dataset into a new dataset? "
   ]
  },
  {
   "cell_type": "code",
   "execution_count": 39,
   "metadata": {},
   "outputs": [],
   "source": [
    "df.to_csv('C:/Users/Nael/Desktop/mydataset.csv') # saving as my new dataset as a CSV file in my desktop "
   ]
  },
  {
   "cell_type": "markdown",
   "metadata": {},
   "source": [
    "# ANALYZING  MY DATA"
   ]
  },
  {
   "cell_type": "markdown",
   "metadata": {},
   "source": [
    "Question 30. How to get the summary statistics for each numeric variable in my dataset ?"
   ]
  },
  {
   "cell_type": "code",
   "execution_count": 40,
   "metadata": {},
   "outputs": [
    {
     "data": {
      "text/html": [
       "<div>\n",
       "<style scoped>\n",
       "    .dataframe tbody tr th:only-of-type {\n",
       "        vertical-align: middle;\n",
       "    }\n",
       "\n",
       "    .dataframe tbody tr th {\n",
       "        vertical-align: top;\n",
       "    }\n",
       "\n",
       "    .dataframe thead th {\n",
       "        text-align: right;\n",
       "    }\n",
       "</style>\n",
       "<table border=\"1\" class=\"dataframe\">\n",
       "  <thead>\n",
       "    <tr style=\"text-align: right;\">\n",
       "      <th></th>\n",
       "      <th>id</th>\n",
       "      <th>age</th>\n",
       "      <th>account</th>\n",
       "      <th>size</th>\n",
       "      <th>indirect_bene</th>\n",
       "      <th>adulte1</th>\n",
       "      <th>youth</th>\n",
       "      <th>sex_num</th>\n",
       "    </tr>\n",
       "  </thead>\n",
       "  <tbody>\n",
       "    <tr>\n",
       "      <th>count</th>\n",
       "      <td>5.305000e+03</td>\n",
       "      <td>5305.00000</td>\n",
       "      <td>5.305000e+03</td>\n",
       "      <td>5305.000000</td>\n",
       "      <td>5305.000000</td>\n",
       "      <td>5305.000000</td>\n",
       "      <td>5305.0</td>\n",
       "      <td>5305.000000</td>\n",
       "    </tr>\n",
       "    <tr>\n",
       "      <th>mean</th>\n",
       "      <td>1.410694e+07</td>\n",
       "      <td>20.93968</td>\n",
       "      <td>2.027019e+09</td>\n",
       "      <td>4.030349</td>\n",
       "      <td>20.151744</td>\n",
       "      <td>0.932516</td>\n",
       "      <td>1.0</td>\n",
       "      <td>0.028841</td>\n",
       "    </tr>\n",
       "    <tr>\n",
       "      <th>std</th>\n",
       "      <td>2.334538e+06</td>\n",
       "      <td>1.63511</td>\n",
       "      <td>3.419604e+07</td>\n",
       "      <td>1.639222</td>\n",
       "      <td>8.196112</td>\n",
       "      <td>0.250881</td>\n",
       "      <td>0.0</td>\n",
       "      <td>0.167374</td>\n",
       "    </tr>\n",
       "    <tr>\n",
       "      <th>min</th>\n",
       "      <td>1.009702e+07</td>\n",
       "      <td>18.00000</td>\n",
       "      <td>2.010097e+09</td>\n",
       "      <td>1.000000</td>\n",
       "      <td>5.000000</td>\n",
       "      <td>0.000000</td>\n",
       "      <td>1.0</td>\n",
       "      <td>0.000000</td>\n",
       "    </tr>\n",
       "    <tr>\n",
       "      <th>25%</th>\n",
       "      <td>1.192256e+07</td>\n",
       "      <td>20.00000</td>\n",
       "      <td>2.011923e+09</td>\n",
       "      <td>3.000000</td>\n",
       "      <td>15.000000</td>\n",
       "      <td>1.000000</td>\n",
       "      <td>1.0</td>\n",
       "      <td>0.000000</td>\n",
       "    </tr>\n",
       "    <tr>\n",
       "      <th>50%</th>\n",
       "      <td>1.439082e+07</td>\n",
       "      <td>20.00000</td>\n",
       "      <td>2.014391e+09</td>\n",
       "      <td>4.000000</td>\n",
       "      <td>20.000000</td>\n",
       "      <td>1.000000</td>\n",
       "      <td>1.0</td>\n",
       "      <td>0.000000</td>\n",
       "    </tr>\n",
       "    <tr>\n",
       "      <th>75%</th>\n",
       "      <td>1.617679e+07</td>\n",
       "      <td>22.00000</td>\n",
       "      <td>2.016848e+09</td>\n",
       "      <td>5.000000</td>\n",
       "      <td>25.000000</td>\n",
       "      <td>1.000000</td>\n",
       "      <td>1.0</td>\n",
       "      <td>0.000000</td>\n",
       "    </tr>\n",
       "    <tr>\n",
       "      <th>max</th>\n",
       "      <td>2.016737e+07</td>\n",
       "      <td>24.00000</td>\n",
       "      <td>2.116007e+09</td>\n",
       "      <td>14.000000</td>\n",
       "      <td>70.000000</td>\n",
       "      <td>1.000000</td>\n",
       "      <td>1.0</td>\n",
       "      <td>1.000000</td>\n",
       "    </tr>\n",
       "  </tbody>\n",
       "</table>\n",
       "</div>"
      ],
      "text/plain": [
       "                 id         age       account         size  indirect_bene  \\\n",
       "count  5.305000e+03  5305.00000  5.305000e+03  5305.000000    5305.000000   \n",
       "mean   1.410694e+07    20.93968  2.027019e+09     4.030349      20.151744   \n",
       "std    2.334538e+06     1.63511  3.419604e+07     1.639222       8.196112   \n",
       "min    1.009702e+07    18.00000  2.010097e+09     1.000000       5.000000   \n",
       "25%    1.192256e+07    20.00000  2.011923e+09     3.000000      15.000000   \n",
       "50%    1.439082e+07    20.00000  2.014391e+09     4.000000      20.000000   \n",
       "75%    1.617679e+07    22.00000  2.016848e+09     5.000000      25.000000   \n",
       "max    2.016737e+07    24.00000  2.116007e+09    14.000000      70.000000   \n",
       "\n",
       "           adulte1   youth      sex_num  \n",
       "count  5305.000000  5305.0  5305.000000  \n",
       "mean      0.932516     1.0     0.028841  \n",
       "std       0.250881     0.0     0.167374  \n",
       "min       0.000000     1.0     0.000000  \n",
       "25%       1.000000     1.0     0.000000  \n",
       "50%       1.000000     1.0     0.000000  \n",
       "75%       1.000000     1.0     0.000000  \n",
       "max       1.000000     1.0     1.000000  "
      ]
     },
     "execution_count": 40,
     "metadata": {},
     "output_type": "execute_result"
    }
   ],
   "source": [
    "df.describe()"
   ]
  },
  {
   "cell_type": "markdown",
   "metadata": {},
   "source": [
    "Question 31. How to display a box plot for a variable by another variable ? "
   ]
  },
  {
   "cell_type": "code",
   "execution_count": 41,
   "metadata": {},
   "outputs": [
    {
     "data": {
      "image/png": "[encoded data removed]",
      "text/plain": [
       "<Figure size 432x288 with 1 Axes>"
      ]
     },
     "metadata": {
      "needs_background": "light"
     },
     "output_type": "display_data"
    }
   ],
   "source": [
    "sns.boxplot(x='sex',y='age',data=df)\n",
    "plt.show()"
   ]
  },
  {
   "cell_type": "markdown",
   "metadata": {},
   "source": [
    "Question 32. How to get the upper and lower 95% intervall confidence values for a variable ? "
   ]
  },
  {
   "cell_type": "code",
   "execution_count": 42,
   "metadata": {},
   "outputs": [
    {
     "name": "stdout",
     "output_type": "stream",
     "text": [
      "20.98367952312403 20.895679572069184\n"
     ]
    }
   ],
   "source": [
    "# Code option 1\n",
    "\n",
    "n = df['age']. count() # counting number of values in the column\n",
    "nsquart =math.sqrt(n)   # squar of n\n",
    "mean = df['age'].mean()\n",
    "std = df['age']. std()\n",
    "z = stats.norm.ppf(q=0.975)\n",
    "upper = mean +(z*(std/nsquart))\n",
    "lower = mean -(z*(std/nsquart))\n",
    "print(upper,lower)"
   ]
  },
  {
   "cell_type": "code",
   "execution_count": 43,
   "metadata": {},
   "outputs": [
    {
     "name": "stdout",
     "output_type": "stream",
     "text": [
      "20.98367952312403 20.895679572069184\n"
     ]
    }
   ],
   "source": [
    "# Code option 2\n",
    "\n",
    "u_age = df['age'].mean() + (stats.norm.ppf(q=0.975)*(df['age']. std()/math.sqrt(df['age']. count())))\n",
    "l_age = df['age'].mean() - (stats.norm.ppf(q=0.975)*(df['age']. std()/math.sqrt(df['age']. count())))\n",
    "print (u_age,l_age)"
   ]
  },
  {
   "cell_type": "markdown",
   "metadata": {},
   "source": [
    "Question 33. How to generate a table (dataset) that returns the number,percentage of each value label of a column from another dataset?"
   ]
  },
  {
   "cell_type": "code",
   "execution_count": 44,
   "metadata": {},
   "outputs": [
    {
     "data": {
      "text/html": [
       "<div>\n",
       "<style scoped>\n",
       "    .dataframe tbody tr th:only-of-type {\n",
       "        vertical-align: middle;\n",
       "    }\n",
       "\n",
       "    .dataframe tbody tr th {\n",
       "        vertical-align: top;\n",
       "    }\n",
       "\n",
       "    .dataframe thead th {\n",
       "        text-align: right;\n",
       "    }\n",
       "</style>\n",
       "<table border=\"1\" class=\"dataframe\">\n",
       "  <thead>\n",
       "    <tr style=\"text-align: right;\">\n",
       "      <th></th>\n",
       "      <th>#</th>\n",
       "      <th>percent</th>\n",
       "      <th>%</th>\n",
       "    </tr>\n",
       "  </thead>\n",
       "  <tbody>\n",
       "    <tr>\n",
       "      <th>Female</th>\n",
       "      <td>5152</td>\n",
       "      <td>0.971159</td>\n",
       "      <td>97.1%</td>\n",
       "    </tr>\n",
       "    <tr>\n",
       "      <th>Male</th>\n",
       "      <td>153</td>\n",
       "      <td>0.028841</td>\n",
       "      <td>2.9%</td>\n",
       "    </tr>\n",
       "  </tbody>\n",
       "</table>\n",
       "</div>"
      ],
      "text/plain": [
       "           #   percent      %\n",
       "Female  5152  0.971159  97.1%\n",
       "Male     153  0.028841   2.9%"
      ]
     },
     "execution_count": 44,
     "metadata": {},
     "output_type": "execute_result"
    }
   ],
   "source": [
    "s = df['sex']\n",
    "counts= s.value_counts()\n",
    "percents=s.value_counts(normalize=True)\n",
    "percents100= s.value_counts(normalize=True).mul(100).round(1).astype(str)+\"%\"\n",
    "d2=({'#':counts,'percent':percents,'%':percents100})\n",
    "sex1=pd.DataFrame(d2)\n",
    "sex1"
   ]
  },
  {
   "cell_type": "markdown",
   "metadata": {},
   "source": [
    "Question 34. How do I generate a cross-tabulation, count between two variables ?"
   ]
  },
  {
   "cell_type": "code",
   "execution_count": 45,
   "metadata": {},
   "outputs": [
    {
     "data": {
      "text/html": [
       "<div>\n",
       "<style scoped>\n",
       "    .dataframe tbody tr th:only-of-type {\n",
       "        vertical-align: middle;\n",
       "    }\n",
       "\n",
       "    .dataframe tbody tr th {\n",
       "        vertical-align: top;\n",
       "    }\n",
       "\n",
       "    .dataframe thead th {\n",
       "        text-align: right;\n",
       "    }\n",
       "</style>\n",
       "<table border=\"1\" class=\"dataframe\">\n",
       "  <thead>\n",
       "    <tr style=\"text-align: right;\">\n",
       "      <th>sex</th>\n",
       "      <th>Female</th>\n",
       "      <th>Male</th>\n",
       "    </tr>\n",
       "    <tr>\n",
       "      <th>district</th>\n",
       "      <th></th>\n",
       "      <th></th>\n",
       "    </tr>\n",
       "  </thead>\n",
       "  <tbody>\n",
       "    <tr>\n",
       "      <th>est</th>\n",
       "      <td>1974</td>\n",
       "      <td>57</td>\n",
       "    </tr>\n",
       "    <tr>\n",
       "      <th>one</th>\n",
       "      <td>1466</td>\n",
       "      <td>33</td>\n",
       "    </tr>\n",
       "    <tr>\n",
       "      <th>ouest</th>\n",
       "      <td>1590</td>\n",
       "      <td>59</td>\n",
       "    </tr>\n",
       "    <tr>\n",
       "      <th>zero</th>\n",
       "      <td>122</td>\n",
       "      <td>4</td>\n",
       "    </tr>\n",
       "  </tbody>\n",
       "</table>\n",
       "</div>"
      ],
      "text/plain": [
       "sex       Female  Male\n",
       "district              \n",
       "est         1974    57\n",
       "one         1466    33\n",
       "ouest       1590    59\n",
       "zero         122     4"
      ]
     },
     "execution_count": 45,
     "metadata": {},
     "output_type": "execute_result"
    }
   ],
   "source": [
    "pd.crosstab(df['district'], df['sex'])"
   ]
  },
  {
   "cell_type": "markdown",
   "metadata": {},
   "source": [
    "Question 35. How do I display a crosstable ( count count between two variable ) or  bar chart? "
   ]
  },
  {
   "cell_type": "code",
   "execution_count": 46,
   "metadata": {},
   "outputs": [
    {
     "data": {
      "image/png": "[encoded data removed]",
      "text/plain": [
       "<Figure size 432x288 with 1 Axes>"
      ]
     },
     "metadata": {
      "needs_background": "light"
     },
     "output_type": "display_data"
    }
   ],
   "source": [
    "pd.crosstab(df['district'], df['sex']).plot(kind = 'bar')\n",
    "plt.title('cross tabulation figure')\n",
    "plt.show()"
   ]
  },
  {
   "cell_type": "markdown",
   "metadata": {},
   "source": [
    "Question 36. How do I generate  a crosstable that provides the percentage over all values (normalized overall values) ?"
   ]
  },
  {
   "cell_type": "code",
   "execution_count": 47,
   "metadata": {},
   "outputs": [
    {
     "data": {
      "text/html": [
       "<div>\n",
       "<style scoped>\n",
       "    .dataframe tbody tr th:only-of-type {\n",
       "        vertical-align: middle;\n",
       "    }\n",
       "\n",
       "    .dataframe tbody tr th {\n",
       "        vertical-align: top;\n",
       "    }\n",
       "\n",
       "    .dataframe thead th {\n",
       "        text-align: right;\n",
       "    }\n",
       "</style>\n",
       "<table border=\"1\" class=\"dataframe\">\n",
       "  <thead>\n",
       "    <tr style=\"text-align: right;\">\n",
       "      <th>sex</th>\n",
       "      <th>Female</th>\n",
       "      <th>Male</th>\n",
       "    </tr>\n",
       "    <tr>\n",
       "      <th>district</th>\n",
       "      <th></th>\n",
       "      <th></th>\n",
       "    </tr>\n",
       "  </thead>\n",
       "  <tbody>\n",
       "    <tr>\n",
       "      <th>est</th>\n",
       "      <td>0.372102</td>\n",
       "      <td>0.010745</td>\n",
       "    </tr>\n",
       "    <tr>\n",
       "      <th>one</th>\n",
       "      <td>0.276343</td>\n",
       "      <td>0.006221</td>\n",
       "    </tr>\n",
       "    <tr>\n",
       "      <th>ouest</th>\n",
       "      <td>0.299717</td>\n",
       "      <td>0.011122</td>\n",
       "    </tr>\n",
       "    <tr>\n",
       "      <th>zero</th>\n",
       "      <td>0.022997</td>\n",
       "      <td>0.000754</td>\n",
       "    </tr>\n",
       "  </tbody>\n",
       "</table>\n",
       "</div>"
      ],
      "text/plain": [
       "sex         Female      Male\n",
       "district                    \n",
       "est       0.372102  0.010745\n",
       "one       0.276343  0.006221\n",
       "ouest     0.299717  0.011122\n",
       "zero      0.022997  0.000754"
      ]
     },
     "execution_count": 47,
     "metadata": {},
     "output_type": "execute_result"
    }
   ],
   "source": [
    "pd.crosstab(df['district'], df['sex'], normalize ='all') "
   ]
  },
  {
   "cell_type": "markdown",
   "metadata": {},
   "source": [
    "Question 35. How do I generate a crosstable that provides the percentage over the total of each row (normalized over row) ?"
   ]
  },
  {
   "cell_type": "code",
   "execution_count": 48,
   "metadata": {},
   "outputs": [
    {
     "data": {
      "text/html": [
       "<div>\n",
       "<style scoped>\n",
       "    .dataframe tbody tr th:only-of-type {\n",
       "        vertical-align: middle;\n",
       "    }\n",
       "\n",
       "    .dataframe tbody tr th {\n",
       "        vertical-align: top;\n",
       "    }\n",
       "\n",
       "    .dataframe thead th {\n",
       "        text-align: right;\n",
       "    }\n",
       "</style>\n",
       "<table border=\"1\" class=\"dataframe\">\n",
       "  <thead>\n",
       "    <tr style=\"text-align: right;\">\n",
       "      <th>sex</th>\n",
       "      <th>Female</th>\n",
       "      <th>Male</th>\n",
       "    </tr>\n",
       "    <tr>\n",
       "      <th>district</th>\n",
       "      <th></th>\n",
       "      <th></th>\n",
       "    </tr>\n",
       "  </thead>\n",
       "  <tbody>\n",
       "    <tr>\n",
       "      <th>est</th>\n",
       "      <td>0.971935</td>\n",
       "      <td>0.028065</td>\n",
       "    </tr>\n",
       "    <tr>\n",
       "      <th>one</th>\n",
       "      <td>0.977985</td>\n",
       "      <td>0.022015</td>\n",
       "    </tr>\n",
       "    <tr>\n",
       "      <th>ouest</th>\n",
       "      <td>0.964221</td>\n",
       "      <td>0.035779</td>\n",
       "    </tr>\n",
       "    <tr>\n",
       "      <th>zero</th>\n",
       "      <td>0.968254</td>\n",
       "      <td>0.031746</td>\n",
       "    </tr>\n",
       "  </tbody>\n",
       "</table>\n",
       "</div>"
      ],
      "text/plain": [
       "sex         Female      Male\n",
       "district                    \n",
       "est       0.971935  0.028065\n",
       "one       0.977985  0.022015\n",
       "ouest     0.964221  0.035779\n",
       "zero      0.968254  0.031746"
      ]
     },
     "execution_count": 48,
     "metadata": {},
     "output_type": "execute_result"
    }
   ],
   "source": [
    "pd.crosstab(df['district'], df['sex'], normalize ='index') #  (% or normalize over each row )"
   ]
  },
  {
   "cell_type": "markdown",
   "metadata": {},
   "source": [
    "Question 37. How do I generate a crosstable that provides the percentage over the total of each column (normalized over column) ?"
   ]
  },
  {
   "cell_type": "code",
   "execution_count": 49,
   "metadata": {},
   "outputs": [
    {
     "data": {
      "text/html": [
       "<div>\n",
       "<style scoped>\n",
       "    .dataframe tbody tr th:only-of-type {\n",
       "        vertical-align: middle;\n",
       "    }\n",
       "\n",
       "    .dataframe tbody tr th {\n",
       "        vertical-align: top;\n",
       "    }\n",
       "\n",
       "    .dataframe thead th {\n",
       "        text-align: right;\n",
       "    }\n",
       "</style>\n",
       "<table border=\"1\" class=\"dataframe\">\n",
       "  <thead>\n",
       "    <tr style=\"text-align: right;\">\n",
       "      <th>sex</th>\n",
       "      <th>Female</th>\n",
       "      <th>Male</th>\n",
       "    </tr>\n",
       "    <tr>\n",
       "      <th>district</th>\n",
       "      <th></th>\n",
       "      <th></th>\n",
       "    </tr>\n",
       "  </thead>\n",
       "  <tbody>\n",
       "    <tr>\n",
       "      <th>est</th>\n",
       "      <td>0.383152</td>\n",
       "      <td>0.372549</td>\n",
       "    </tr>\n",
       "    <tr>\n",
       "      <th>one</th>\n",
       "      <td>0.284550</td>\n",
       "      <td>0.215686</td>\n",
       "    </tr>\n",
       "    <tr>\n",
       "      <th>ouest</th>\n",
       "      <td>0.308618</td>\n",
       "      <td>0.385621</td>\n",
       "    </tr>\n",
       "    <tr>\n",
       "      <th>zero</th>\n",
       "      <td>0.023680</td>\n",
       "      <td>0.026144</td>\n",
       "    </tr>\n",
       "  </tbody>\n",
       "</table>\n",
       "</div>"
      ],
      "text/plain": [
       "sex         Female      Male\n",
       "district                    \n",
       "est       0.383152  0.372549\n",
       "one       0.284550  0.215686\n",
       "ouest     0.308618  0.385621\n",
       "zero      0.023680  0.026144"
      ]
     },
     "execution_count": 49,
     "metadata": {},
     "output_type": "execute_result"
    }
   ],
   "source": [
    "pd.crosstab(df['district'], df['sex'], normalize ='columns')  #  (% or normalize over each column )"
   ]
  },
  {
   "cell_type": "markdown",
   "metadata": {},
   "source": [
    "Question 38. How to create a subset resulting from a value of a column (can be used for data mining) and then getting the summary statistics? "
   ]
  },
  {
   "cell_type": "code",
   "execution_count": 50,
   "metadata": {},
   "outputs": [
    {
     "data": {
      "text/html": [
       "<div>\n",
       "<style scoped>\n",
       "    .dataframe tbody tr th:only-of-type {\n",
       "        vertical-align: middle;\n",
       "    }\n",
       "\n",
       "    .dataframe tbody tr th {\n",
       "        vertical-align: top;\n",
       "    }\n",
       "\n",
       "    .dataframe thead th {\n",
       "        text-align: right;\n",
       "    }\n",
       "</style>\n",
       "<table border=\"1\" class=\"dataframe\">\n",
       "  <thead>\n",
       "    <tr style=\"text-align: right;\">\n",
       "      <th></th>\n",
       "      <th>id</th>\n",
       "      <th>age</th>\n",
       "      <th>account</th>\n",
       "      <th>size</th>\n",
       "      <th>indirect_bene</th>\n",
       "      <th>adulte1</th>\n",
       "      <th>youth</th>\n",
       "      <th>sex_num</th>\n",
       "    </tr>\n",
       "  </thead>\n",
       "  <tbody>\n",
       "    <tr>\n",
       "      <th>count</th>\n",
       "      <td>1.530000e+02</td>\n",
       "      <td>153.000000</td>\n",
       "      <td>1.530000e+02</td>\n",
       "      <td>153.000000</td>\n",
       "      <td>153.000000</td>\n",
       "      <td>153.000000</td>\n",
       "      <td>153.0</td>\n",
       "      <td>153.0</td>\n",
       "    </tr>\n",
       "    <tr>\n",
       "      <th>mean</th>\n",
       "      <td>1.410892e+07</td>\n",
       "      <td>21.398693</td>\n",
       "      <td>2.024566e+09</td>\n",
       "      <td>4.738562</td>\n",
       "      <td>23.692810</td>\n",
       "      <td>0.967320</td>\n",
       "      <td>1.0</td>\n",
       "      <td>1.0</td>\n",
       "    </tr>\n",
       "    <tr>\n",
       "      <th>std</th>\n",
       "      <td>2.446506e+06</td>\n",
       "      <td>1.683276</td>\n",
       "      <td>3.130563e+07</td>\n",
       "      <td>2.123711</td>\n",
       "      <td>10.618554</td>\n",
       "      <td>0.178381</td>\n",
       "      <td>0.0</td>\n",
       "      <td>0.0</td>\n",
       "    </tr>\n",
       "    <tr>\n",
       "      <th>min</th>\n",
       "      <td>1.013078e+07</td>\n",
       "      <td>18.000000</td>\n",
       "      <td>2.010131e+09</td>\n",
       "      <td>1.000000</td>\n",
       "      <td>5.000000</td>\n",
       "      <td>0.000000</td>\n",
       "      <td>1.0</td>\n",
       "      <td>1.0</td>\n",
       "    </tr>\n",
       "    <tr>\n",
       "      <th>25%</th>\n",
       "      <td>1.174767e+07</td>\n",
       "      <td>20.000000</td>\n",
       "      <td>2.011748e+09</td>\n",
       "      <td>3.000000</td>\n",
       "      <td>15.000000</td>\n",
       "      <td>1.000000</td>\n",
       "      <td>1.0</td>\n",
       "      <td>1.0</td>\n",
       "    </tr>\n",
       "    <tr>\n",
       "      <th>50%</th>\n",
       "      <td>1.466892e+07</td>\n",
       "      <td>22.000000</td>\n",
       "      <td>2.014669e+09</td>\n",
       "      <td>4.000000</td>\n",
       "      <td>20.000000</td>\n",
       "      <td>1.000000</td>\n",
       "      <td>1.0</td>\n",
       "      <td>1.0</td>\n",
       "    </tr>\n",
       "    <tr>\n",
       "      <th>75%</th>\n",
       "      <td>1.633461e+07</td>\n",
       "      <td>23.000000</td>\n",
       "      <td>2.016608e+09</td>\n",
       "      <td>6.000000</td>\n",
       "      <td>30.000000</td>\n",
       "      <td>1.000000</td>\n",
       "      <td>1.0</td>\n",
       "      <td>1.0</td>\n",
       "    </tr>\n",
       "    <tr>\n",
       "      <th>max</th>\n",
       "      <td>1.816131e+07</td>\n",
       "      <td>24.000000</td>\n",
       "      <td>2.115999e+09</td>\n",
       "      <td>11.000000</td>\n",
       "      <td>55.000000</td>\n",
       "      <td>1.000000</td>\n",
       "      <td>1.0</td>\n",
       "      <td>1.0</td>\n",
       "    </tr>\n",
       "  </tbody>\n",
       "</table>\n",
       "</div>"
      ],
      "text/plain": [
       "                 id         age       account        size  indirect_bene  \\\n",
       "count  1.530000e+02  153.000000  1.530000e+02  153.000000     153.000000   \n",
       "mean   1.410892e+07   21.398693  2.024566e+09    4.738562      23.692810   \n",
       "std    2.446506e+06    1.683276  3.130563e+07    2.123711      10.618554   \n",
       "min    1.013078e+07   18.000000  2.010131e+09    1.000000       5.000000   \n",
       "25%    1.174767e+07   20.000000  2.011748e+09    3.000000      15.000000   \n",
       "50%    1.466892e+07   22.000000  2.014669e+09    4.000000      20.000000   \n",
       "75%    1.633461e+07   23.000000  2.016608e+09    6.000000      30.000000   \n",
       "max    1.816131e+07   24.000000  2.115999e+09   11.000000      55.000000   \n",
       "\n",
       "          adulte1  youth  sex_num  \n",
       "count  153.000000  153.0    153.0  \n",
       "mean     0.967320    1.0      1.0  \n",
       "std      0.178381    0.0      0.0  \n",
       "min      0.000000    1.0      1.0  \n",
       "25%      1.000000    1.0      1.0  \n",
       "50%      1.000000    1.0      1.0  \n",
       "75%      1.000000    1.0      1.0  \n",
       "max      1.000000    1.0      1.0  "
      ]
     },
     "execution_count": 50,
     "metadata": {},
     "output_type": "execute_result"
    }
   ],
   "source": [
    "male_df = df[df['sex']=='Male']  # creating my subset of \"male\" from \"sex\" column (data mining)\n",
    "male_df.describe()"
   ]
  },
  {
   "cell_type": "code",
   "execution_count": 51,
   "metadata": {},
   "outputs": [
    {
     "data": {
      "text/html": [
       "<div>\n",
       "<style scoped>\n",
       "    .dataframe tbody tr th:only-of-type {\n",
       "        vertical-align: middle;\n",
       "    }\n",
       "\n",
       "    .dataframe tbody tr th {\n",
       "        vertical-align: top;\n",
       "    }\n",
       "\n",
       "    .dataframe thead th {\n",
       "        text-align: right;\n",
       "    }\n",
       "</style>\n",
       "<table border=\"1\" class=\"dataframe\">\n",
       "  <thead>\n",
       "    <tr style=\"text-align: right;\">\n",
       "      <th></th>\n",
       "      <th>id</th>\n",
       "      <th>age</th>\n",
       "      <th>account</th>\n",
       "      <th>size</th>\n",
       "      <th>indirect_bene</th>\n",
       "      <th>adulte1</th>\n",
       "      <th>youth</th>\n",
       "      <th>sex_num</th>\n",
       "    </tr>\n",
       "  </thead>\n",
       "  <tbody>\n",
       "    <tr>\n",
       "      <th>count</th>\n",
       "      <td>5.152000e+03</td>\n",
       "      <td>5152.000000</td>\n",
       "      <td>5.152000e+03</td>\n",
       "      <td>5152.000000</td>\n",
       "      <td>5152.000000</td>\n",
       "      <td>5152.000000</td>\n",
       "      <td>5152.0</td>\n",
       "      <td>5152.0</td>\n",
       "    </tr>\n",
       "    <tr>\n",
       "      <th>mean</th>\n",
       "      <td>1.410688e+07</td>\n",
       "      <td>20.926048</td>\n",
       "      <td>2.027092e+09</td>\n",
       "      <td>4.009317</td>\n",
       "      <td>20.046584</td>\n",
       "      <td>0.931483</td>\n",
       "      <td>1.0</td>\n",
       "      <td>0.0</td>\n",
       "    </tr>\n",
       "    <tr>\n",
       "      <th>std</th>\n",
       "      <td>2.331379e+06</td>\n",
       "      <td>1.631853</td>\n",
       "      <td>3.427826e+07</td>\n",
       "      <td>1.618158</td>\n",
       "      <td>8.090788</td>\n",
       "      <td>0.252656</td>\n",
       "      <td>0.0</td>\n",
       "      <td>0.0</td>\n",
       "    </tr>\n",
       "    <tr>\n",
       "      <th>min</th>\n",
       "      <td>1.009702e+07</td>\n",
       "      <td>18.000000</td>\n",
       "      <td>2.010097e+09</td>\n",
       "      <td>1.000000</td>\n",
       "      <td>5.000000</td>\n",
       "      <td>0.000000</td>\n",
       "      <td>1.0</td>\n",
       "      <td>0.0</td>\n",
       "    </tr>\n",
       "    <tr>\n",
       "      <th>25%</th>\n",
       "      <td>1.193459e+07</td>\n",
       "      <td>20.000000</td>\n",
       "      <td>2.011935e+09</td>\n",
       "      <td>3.000000</td>\n",
       "      <td>15.000000</td>\n",
       "      <td>1.000000</td>\n",
       "      <td>1.0</td>\n",
       "      <td>0.0</td>\n",
       "    </tr>\n",
       "    <tr>\n",
       "      <th>50%</th>\n",
       "      <td>1.438219e+07</td>\n",
       "      <td>20.000000</td>\n",
       "      <td>2.014382e+09</td>\n",
       "      <td>4.000000</td>\n",
       "      <td>20.000000</td>\n",
       "      <td>1.000000</td>\n",
       "      <td>1.0</td>\n",
       "      <td>0.0</td>\n",
       "    </tr>\n",
       "    <tr>\n",
       "      <th>75%</th>\n",
       "      <td>1.616660e+07</td>\n",
       "      <td>22.000000</td>\n",
       "      <td>2.016853e+09</td>\n",
       "      <td>5.000000</td>\n",
       "      <td>25.000000</td>\n",
       "      <td>1.000000</td>\n",
       "      <td>1.0</td>\n",
       "      <td>0.0</td>\n",
       "    </tr>\n",
       "    <tr>\n",
       "      <th>max</th>\n",
       "      <td>2.016737e+07</td>\n",
       "      <td>24.000000</td>\n",
       "      <td>2.116007e+09</td>\n",
       "      <td>14.000000</td>\n",
       "      <td>70.000000</td>\n",
       "      <td>1.000000</td>\n",
       "      <td>1.0</td>\n",
       "      <td>0.0</td>\n",
       "    </tr>\n",
       "  </tbody>\n",
       "</table>\n",
       "</div>"
      ],
      "text/plain": [
       "                 id          age       account         size  indirect_bene  \\\n",
       "count  5.152000e+03  5152.000000  5.152000e+03  5152.000000    5152.000000   \n",
       "mean   1.410688e+07    20.926048  2.027092e+09     4.009317      20.046584   \n",
       "std    2.331379e+06     1.631853  3.427826e+07     1.618158       8.090788   \n",
       "min    1.009702e+07    18.000000  2.010097e+09     1.000000       5.000000   \n",
       "25%    1.193459e+07    20.000000  2.011935e+09     3.000000      15.000000   \n",
       "50%    1.438219e+07    20.000000  2.014382e+09     4.000000      20.000000   \n",
       "75%    1.616660e+07    22.000000  2.016853e+09     5.000000      25.000000   \n",
       "max    2.016737e+07    24.000000  2.116007e+09    14.000000      70.000000   \n",
       "\n",
       "           adulte1   youth  sex_num  \n",
       "count  5152.000000  5152.0   5152.0  \n",
       "mean      0.931483     1.0      0.0  \n",
       "std       0.252656     0.0      0.0  \n",
       "min       0.000000     1.0      0.0  \n",
       "25%       1.000000     1.0      0.0  \n",
       "50%       1.000000     1.0      0.0  \n",
       "75%       1.000000     1.0      0.0  \n",
       "max       1.000000     1.0      0.0  "
      ]
     },
     "execution_count": 51,
     "metadata": {},
     "output_type": "execute_result"
    }
   ],
   "source": [
    "female_df = df[df['sex'] == 'Female']  # creating my subset of \"female\" group of \"sex\" column\n",
    "female_df.describe()"
   ]
  },
  {
   "cell_type": "markdown",
   "metadata": {},
   "source": [
    "Question 39. How to group data by category of value labels in a column and apply a calculation to these categories? \n",
    "\n",
    "        Ex: createing a table showing the mean age by district from dataset df"
   ]
  },
  {
   "cell_type": "code",
   "execution_count": 52,
   "metadata": {},
   "outputs": [
    {
     "data": {
      "text/plain": [
       "array(['est', 'one', 'ouest', 'zero'], dtype=object)"
      ]
     },
     "execution_count": 52,
     "metadata": {},
     "output_type": "execute_result"
    }
   ],
   "source": [
    "df['district'].unique()  # checking district value label"
   ]
  },
  {
   "cell_type": "code",
   "execution_count": 53,
   "metadata": {},
   "outputs": [],
   "source": [
    "x = df[['age','district']]  # Creatingt a subset with age and district "
   ]
  },
  {
   "cell_type": "code",
   "execution_count": 54,
   "metadata": {},
   "outputs": [
    {
     "data": {
      "text/html": [
       "<div>\n",
       "<style scoped>\n",
       "    .dataframe tbody tr th:only-of-type {\n",
       "        vertical-align: middle;\n",
       "    }\n",
       "\n",
       "    .dataframe tbody tr th {\n",
       "        vertical-align: top;\n",
       "    }\n",
       "\n",
       "    .dataframe thead th {\n",
       "        text-align: right;\n",
       "    }\n",
       "</style>\n",
       "<table border=\"1\" class=\"dataframe\">\n",
       "  <thead>\n",
       "    <tr style=\"text-align: right;\">\n",
       "      <th></th>\n",
       "      <th>age</th>\n",
       "    </tr>\n",
       "    <tr>\n",
       "      <th>district</th>\n",
       "      <th></th>\n",
       "    </tr>\n",
       "  </thead>\n",
       "  <tbody>\n",
       "    <tr>\n",
       "      <th>est</th>\n",
       "      <td>20.985721</td>\n",
       "    </tr>\n",
       "    <tr>\n",
       "      <th>one</th>\n",
       "      <td>21.002001</td>\n",
       "    </tr>\n",
       "    <tr>\n",
       "      <th>ouest</th>\n",
       "      <td>20.794421</td>\n",
       "    </tr>\n",
       "    <tr>\n",
       "      <th>zero</th>\n",
       "      <td>21.357143</td>\n",
       "    </tr>\n",
       "  </tbody>\n",
       "</table>\n",
       "</div>"
      ],
      "text/plain": [
       "                age\n",
       "district           \n",
       "est       20.985721\n",
       "one       21.002001\n",
       "ouest     20.794421\n",
       "zero      21.357143"
      ]
     },
     "execution_count": 54,
     "metadata": {},
     "output_type": "execute_result"
    }
   ],
   "source": [
    "x = x.groupby (['district']).mean() #  grouping by distrinct while calculationg mean by district (groupby function) \n",
    "x"
   ]
  },
  {
   "cell_type": "markdown",
   "metadata": {},
   "source": [
    "Question 40. Are the means of two groups (or value labels) within the same variable/column (of the same dataset) satisticaly different?"
   ]
  },
  {
   "cell_type": "code",
   "execution_count": 55,
   "metadata": {},
   "outputs": [],
   "source": [
    "from scipy.stats import ttest_ind  # importing T-test from stats library "
   ]
  },
  {
   "cell_type": "code",
   "execution_count": 56,
   "metadata": {},
   "outputs": [
    {
     "name": "stdout",
     "output_type": "stream",
     "text": [
      "Ttest_indResult(statistic=3.5273342582385983, pvalue=0.00042332017764340143) \n",
      "  Note: if p-value less than 0.05 then means are statistically different\n"
     ]
    }
   ],
   "source": [
    "TwoTail = ttest_ind(male_df['age'],female_df['age'],equal_var = True)  # ex:  Age mean T-test betwen Male & Female \n",
    "print(TwoTail,\"\\n  Note: if p-value less than 0.05 then means are statistically different\")"
   ]
  },
  {
   "cell_type": "markdown",
   "metadata": {},
   "source": [
    "Question 41. Are the means for a variable  taken at two different times (two datasets) statistically different?"
   ]
  },
  {
   "cell_type": "code",
   "execution_count": 57,
   "metadata": {},
   "outputs": [],
   "source": [
    "income_before = pre_test['income'] "
   ]
  },
  {
   "cell_type": "code",
   "execution_count": 58,
   "metadata": {},
   "outputs": [],
   "source": [
    "income_after = post_test['income']"
   ]
  },
  {
   "cell_type": "code",
   "execution_count": 59,
   "metadata": {},
   "outputs": [
    {
     "data": {
      "text/plain": [
       "Ttest_relResult(statistic=0.4658025705334026, pvalue=0.6524236776514067)"
      ]
     },
     "execution_count": 59,
     "metadata": {},
     "output_type": "execute_result"
    }
   ],
   "source": [
    "from scipy.stats import ttest_rel\n",
    "\n",
    "ttest_pair = ttest_rel(income_before,income_after)\n",
    "ttest_pair"
   ]
  },
  {
   "cell_type": "code",
   "execution_count": 60,
   "metadata": {},
   "outputs": [
    {
     "data": {
      "text/plain": [
       "19"
      ]
     },
     "execution_count": 60,
     "metadata": {},
     "output_type": "execute_result"
    }
   ],
   "source": [
    "deg_free =(len(income_before) + len(income_after)) - 1\n",
    "deg_free"
   ]
  },
  {
   "cell_type": "markdown",
   "metadata": {},
   "source": [
    "Question 42. Are the proportions for a variable  taken at two different times (two datasets) statistically different?"
   ]
  },
  {
   "cell_type": "markdown",
   "metadata": {},
   "source": [
    "For illustration, I want to know if there is a significant difference between the percentage of households who had latrine in a survey conducted twice (in 2020 & 2021). I state the hypothesis test as:\n",
    "\n",
    "    Null hypothesis : p1 - p2 = 0 ( no difference between the percentage of 2020 & 2021)\n",
    "    Alternative hypothesis  : p1 -p2 not equal to 0\n"
   ]
  },
  {
   "cell_type": "code",
   "execution_count": 61,
   "metadata": {},
   "outputs": [],
   "source": [
    "import statsmodels.api as sm"
   ]
  },
  {
   "cell_type": "code",
   "execution_count": 62,
   "metadata": {},
   "outputs": [],
   "source": [
    "# Fixing the variables and their repective values\n",
    "\n",
    "n1 = 64098   #  dataset sample size in 2020\n",
    "p1 = 0.0286  # 2.86 % households had a latrine in 2020\n",
    "n2 = 65000   #  dataset sample size in 2021\n",
    "p2 = 0.0385   # 3.85 % households had a latrine in 2021"
   ]
  },
  {
   "cell_type": "code",
   "execution_count": 63,
   "metadata": {},
   "outputs": [],
   "source": [
    "# Calling the function to run the test\n",
    "\n",
    "survey1 = np.random.binomial(1,p1,n1)\n",
    "survey2 = np.random.binomial(1,p2,n2)\n",
    "test = sm.stats.ttest_ind(survey1,survey2)"
   ]
  },
  {
   "cell_type": "code",
   "execution_count": 64,
   "metadata": {},
   "outputs": [
    {
     "name": "stdout",
     "output_type": "stream",
     "text": [
      "1.966870261089306e-24\n"
     ]
    }
   ],
   "source": [
    "# Extracting and printing  values from the test\n",
    "\n",
    "t = test[0]    #  extracting t value\n",
    "p = test[1]    # extractubg p value\n",
    "d = test [2]   # extracting degree of freedom\n",
    "\n",
    "print (p)"
   ]
  },
  {
   "cell_type": "code",
   "execution_count": 65,
   "metadata": {},
   "outputs": [
    {
     "name": "stdout",
     "output_type": "stream",
     "text": [
      "Conclusion: the percentages are statistically different, null hypothesis rejected\n"
     ]
    }
   ],
   "source": [
    "# Decision rule and test conclusion\n",
    "\n",
    "if p < 0.5:\n",
    "    print('Conclusion: the percentages are statistically different, null hypothesis rejected')\n",
    "else:\n",
    "    print ('Conclusion: the percentages are statistically equal, null hypothesis accepted')"
   ]
  },
  {
   "cell_type": "markdown",
   "metadata": {},
   "source": [
    "The following codes are run for correlation analysis and for predictive & linear regression.  A new dataset (FuelConsumptionCo2) is used and can be found in my gihub account "
   ]
  },
  {
   "cell_type": "code",
   "execution_count": 66,
   "metadata": {},
   "outputs": [],
   "source": [
    "e= \"https://raw.githubusercontent.com/naeljb/python/main/FuelConsumptionCo2.csv\""
   ]
  },
  {
   "cell_type": "code",
   "execution_count": 67,
   "metadata": {},
   "outputs": [],
   "source": [
    "df4 = pd.read_csv(e) "
   ]
  },
  {
   "cell_type": "code",
   "execution_count": 68,
   "metadata": {},
   "outputs": [],
   "source": [
    "cdf = df4[['ENGINESIZE','CYLINDERS','FUELCONSUMPTION_COMB','CO2EMISSIONS','FUELTYPE']]"
   ]
  },
  {
   "cell_type": "markdown",
   "metadata": {},
   "source": [
    "Question 43. Are there correlations among the variables ? "
   ]
  },
  {
   "cell_type": "markdown",
   "metadata": {},
   "source": [
    "Correlation describes an association between variables: when one variable changes, so does the other. A correlation is a statistical indicator of the relationship between variables. These variables change together: they covary. But this covariation isn’t necessarily due to a direct or indirect causal link.\n",
    "\n",
    "Causation means that changes in one variable brings about changes in the other; there is a cause-and-effect relationship between variables. The two variables are correlated with each other and there is also a causal link between them.\n",
    "\n",
    "A correlation doesn’t imply causation, but causation always implies correlation."
   ]
  },
  {
   "cell_type": "code",
   "execution_count": 69,
   "metadata": {},
   "outputs": [
    {
     "data": {
      "text/html": [
       "<div>\n",
       "<style scoped>\n",
       "    .dataframe tbody tr th:only-of-type {\n",
       "        vertical-align: middle;\n",
       "    }\n",
       "\n",
       "    .dataframe tbody tr th {\n",
       "        vertical-align: top;\n",
       "    }\n",
       "\n",
       "    .dataframe thead th {\n",
       "        text-align: right;\n",
       "    }\n",
       "</style>\n",
       "<table border=\"1\" class=\"dataframe\">\n",
       "  <thead>\n",
       "    <tr style=\"text-align: right;\">\n",
       "      <th></th>\n",
       "      <th>ENGINESIZE</th>\n",
       "      <th>CYLINDERS</th>\n",
       "      <th>FUELCONSUMPTION_COMB</th>\n",
       "      <th>CO2EMISSIONS</th>\n",
       "    </tr>\n",
       "  </thead>\n",
       "  <tbody>\n",
       "    <tr>\n",
       "      <th>ENGINESIZE</th>\n",
       "      <td>1.000000</td>\n",
       "      <td>0.934011</td>\n",
       "      <td>0.819482</td>\n",
       "      <td>0.874154</td>\n",
       "    </tr>\n",
       "    <tr>\n",
       "      <th>CYLINDERS</th>\n",
       "      <td>0.934011</td>\n",
       "      <td>1.000000</td>\n",
       "      <td>0.776788</td>\n",
       "      <td>0.849685</td>\n",
       "    </tr>\n",
       "    <tr>\n",
       "      <th>FUELCONSUMPTION_COMB</th>\n",
       "      <td>0.819482</td>\n",
       "      <td>0.776788</td>\n",
       "      <td>1.000000</td>\n",
       "      <td>0.892129</td>\n",
       "    </tr>\n",
       "    <tr>\n",
       "      <th>CO2EMISSIONS</th>\n",
       "      <td>0.874154</td>\n",
       "      <td>0.849685</td>\n",
       "      <td>0.892129</td>\n",
       "      <td>1.000000</td>\n",
       "    </tr>\n",
       "  </tbody>\n",
       "</table>\n",
       "</div>"
      ],
      "text/plain": [
       "                      ENGINESIZE  CYLINDERS  FUELCONSUMPTION_COMB  \\\n",
       "ENGINESIZE              1.000000   0.934011              0.819482   \n",
       "CYLINDERS               0.934011   1.000000              0.776788   \n",
       "FUELCONSUMPTION_COMB    0.819482   0.776788              1.000000   \n",
       "CO2EMISSIONS            0.874154   0.849685              0.892129   \n",
       "\n",
       "                      CO2EMISSIONS  \n",
       "ENGINESIZE                0.874154  \n",
       "CYLINDERS                 0.849685  \n",
       "FUELCONSUMPTION_COMB      0.892129  \n",
       "CO2EMISSIONS              1.000000  "
      ]
     },
     "execution_count": 69,
     "metadata": {},
     "output_type": "execute_result"
    }
   ],
   "source": [
    "# Code option 1: All variables & generating a table for the pearson coefficient\n",
    "\n",
    "cdf.corr()  "
   ]
  },
  {
   "cell_type": "code",
   "execution_count": 70,
   "metadata": {},
   "outputs": [
    {
     "data": {
      "image/png": "[encoded data removed]",
      "text/plain": [
       "<Figure size 432x288 with 2 Axes>"
      ]
     },
     "metadata": {
      "needs_background": "light"
     },
     "output_type": "display_data"
    }
   ],
   "source": [
    "# Code option 2: All variables  & generating a heatmap with the pearson correlation coefficient \n",
    "\n",
    "heatmap= sns.heatmap(cdf.corr(),cmap = 'Blues', annot = True)  \n",
    "heatmap.set_title('Correlation heatmap', pad =12)\n",
    "plt.show()"
   ]
  },
  {
   "cell_type": "code",
   "execution_count": 71,
   "metadata": {},
   "outputs": [
    {
     "name": "stdout",
     "output_type": "stream",
     "text": [
      "The pearson Correlation coefficient is 0.8741543683958106 with a p_value of 0.0 \n",
      " if p-value is less than 0.001, there is strong evidence that the correlationis significant \n",
      " if p-value is less than 0.05 = moderate evidence, less than 0.01 = weak evidence, more than 0.1 = no evidence\n"
     ]
    }
   ],
   "source": [
    "# Option 3: Looking only at 2 variables and generating both the Pearson coefficient and p-value \n",
    "\n",
    "pearson_coef,p_value = stats.pearsonr(cdf['ENGINESIZE'],cdf['CO2EMISSIONS'])\n",
    "print (\"The pearson Correlation coefficient is\" ,pearson_coef,  \"with a p_value of\", p_value,\"\\n if p-value is less than 0.001, there is strong evidence that the correlationis significant\",\"\\n if p-value is less than 0.05 = moderate evidence, less than 0.01 = weak evidence, more than 0.1 = no evidence\")"
   ]
  },
  {
   "cell_type": "markdown",
   "metadata": {},
   "source": [
    "Speraman's coerfficient measures the dependence between rankings variables. The relative order matters and not the actual numerical values."
   ]
  },
  {
   "cell_type": "code",
   "execution_count": 72,
   "metadata": {},
   "outputs": [
    {
     "name": "stdout",
     "output_type": "stream",
     "text": [
      "The spearman coefficient is 0.8899725161148536 with a p_value of 0.0\n"
     ]
    }
   ],
   "source": [
    "spearman_coef,p_value= stats.spearmanr(cdf['ENGINESIZE'],cdf['CO2EMISSIONS'])\n",
    "print (\"The spearman coefficient is\" ,spearman_coef,  \"with a p_value of\", p_value)"
   ]
  },
  {
   "cell_type": "markdown",
   "metadata": {},
   "source": [
    "A pairplot plot a pairwise relationships in a dataset. The pairplot function creates a grid of Axes such that each variable in data will by shared in the y-axis across a single row and in the x-axis across a single column. "
   ]
  },
  {
   "cell_type": "code",
   "execution_count": 73,
   "metadata": {},
   "outputs": [
    {
     "data": {
      "image/png": "[encoded data removed]",
      "text/plain": [
       "<Figure size 775.75x720 with 20 Axes>"
      ]
     },
     "metadata": {
      "needs_background": "light"
     },
     "output_type": "display_data"
    }
   ],
   "source": [
    "sns.pairplot(data=cdf, hue=\"FUELTYPE\")\n",
    "plt.show()   "
   ]
  },
  {
   "cell_type": "markdown",
   "metadata": {},
   "source": [
    "Machine learning (ML) is the study of computer algorithms that can improve automatically through experience and by the use of data.  Machine learning algorithms build a model based on sample data, known as training data, in order to make predictions or decisions without being explicitly programmed to do so. There are two types of ML: \n",
    "\n",
    "* Supervised Machin Learning (SML): This is a technique of machine learning where labeled datasets are used to train an algorithm to determine the likelihood of a future event happening based on past occurrences of such an event.  Some of SML methods include Naïve bayes, Linear regression, logistic regression, SVM, KNN and Random forest.\n",
    "\n",
    "\n",
    "* Unsupervised learning is a technique of machine learning where hidden patterns are uncovered from unlabelled datasets. Some of UML includes clustering methods. \n"
   ]
  },
  {
   "cell_type": "markdown",
   "metadata": {},
   "source": [
    "Question 44. How to randomly split a dataset into training and testing sets?"
   ]
  },
  {
   "cell_type": "markdown",
   "metadata": {},
   "source": [
    "Separating data into training and testing sets is an important step for applying Machin Learning and evaluating the model  . Typically, when you separate a data set into a training set and testing set, most of the data is used for training, and a smaller portion of the data is used for testing. By using similar data for training and testing, you can minimize the effects of data discrepancies and better understand the characteristics of the model.After a model has been processed by using the training set, you test the model by making predictions against the test set. Because the data in the testing set already contains known values for the attribute that you want to predict, it is easy to determine whether the model's guesses are correct.\n",
    "\n",
    "In addition, when spliting my dataset into a train and test set, I increase my \"out of sample Accuracy\" which is the  percentage of correct predictions that my model makes on data that the model has NOT been trained on. Doing a train and test on the same dataset will most likely have low out-of sample accuracy, due to the likelihood of being over-fit. It is therefore  important that my models have a high, out-of-sample accuracy, because the purpose of any model, ofcourse, is to make correct predictions on unknown data."
   ]
  },
  {
   "cell_type": "code",
   "execution_count": 74,
   "metadata": {},
   "outputs": [],
   "source": [
    "# Code Option 1,  using Numpy library\n",
    "\n",
    "msk = np.random.rand(len(df4)) < 0.8  # 80% of the entire dataset for training & 20% for testing\n",
    "train = cdf[msk]\n",
    "test = cdf[~msk]"
   ]
  },
  {
   "cell_type": "code",
   "execution_count": 75,
   "metadata": {},
   "outputs": [
    {
     "data": {
      "text/plain": [
       "(1067, 5)"
      ]
     },
     "execution_count": 75,
     "metadata": {},
     "output_type": "execute_result"
    }
   ],
   "source": [
    "cdf.shape # checking cdf dataset size"
   ]
  },
  {
   "cell_type": "code",
   "execution_count": 76,
   "metadata": {},
   "outputs": [
    {
     "data": {
      "text/plain": [
       "(868, 5)"
      ]
     },
     "execution_count": 76,
     "metadata": {},
     "output_type": "execute_result"
    }
   ],
   "source": [
    "train.shape # checking training set size"
   ]
  },
  {
   "cell_type": "code",
   "execution_count": 77,
   "metadata": {},
   "outputs": [
    {
     "data": {
      "text/plain": [
       "(199, 5)"
      ]
     },
     "execution_count": 77,
     "metadata": {},
     "output_type": "execute_result"
    }
   ],
   "source": [
    "test.shape # checking testing set size"
   ]
  },
  {
   "cell_type": "markdown",
   "metadata": {},
   "source": [
    "Code Option 2:  you can also use  Machin Learning  Library 'sklearn to split you dataset into training and testing set.  However, you need first to define the Dependent and independent variable. See the Logistic classification code below (question 49).  "
   ]
  },
  {
   "cell_type": "markdown",
   "metadata": {},
   "source": [
    "Maching Leraning (supervised and unsupervised"
   ]
  },
  {
   "cell_type": "markdown",
   "metadata": {},
   "source": [
    "Question 45. How to model the relationship between a scalar response and one explanatory variable (simple linear model)? "
   ]
  },
  {
   "cell_type": "markdown",
   "metadata": {},
   "source": [
    "Linear regression is a Supervised Learning Maching that models the relationship between a scalar response and one or more explanatory variables (also known as dependent and independent variables). The case of one explanatory variable is called simple linear regression; for more than one, the process is called multiple linear regression. This term is distinct from multivariate linear regression, where multiple correlated dependent variables are predicted, rather than a single scalar variable. In linear regression, the relationships are modeled using linear predictor functions whose unknown model parameters are estimated from the data."
   ]
  },
  {
   "cell_type": "code",
   "execution_count": 78,
   "metadata": {},
   "outputs": [
    {
     "name": "stdout",
     "output_type": "stream",
     "text": [
      " The intercep is:   [123.04112426]  and the predictor is:  [[40.04677596]]\n"
     ]
    }
   ],
   "source": [
    "from sklearn import linear_model # importing linear model module from Sklearn Library\n",
    "regr = linear_model.LinearRegression()\n",
    "train_x = np.asanyarray(train[['ENGINESIZE']])\n",
    "train_y = np.asanyarray(train[['CO2EMISSIONS']])\n",
    "regr.fit(train_x,train_y)\n",
    "\n",
    "print(' The intercep is:  ', regr.intercept_, ' and the predictor is: ', regr.coef_)  "
   ]
  },
  {
   "cell_type": "markdown",
   "metadata": {},
   "source": [
    "Question 46.  How do I graph the variables'relationship (scatter plot) and the linear fitting line ?"
   ]
  },
  {
   "cell_type": "code",
   "execution_count": 79,
   "metadata": {
    "scrolled": true
   },
   "outputs": [
    {
     "data": {
      "image/png": "[encoded data removed]",
      "text/plain": [
       "<Figure size 432x288 with 1 Axes>"
      ]
     },
     "metadata": {
      "needs_background": "light"
     },
     "output_type": "display_data"
    }
   ],
   "source": [
    "# Code option 1 on training set\n",
    "\n",
    "plt.scatter(train.ENGINESIZE,train.CO2EMISSIONS, color = 'blue')\n",
    "plt.plot(train_x, regr.coef_[0][0]*train_x + regr.intercept_[0], '-r') \n",
    "plt.xlabel('Engine size')\n",
    "plt.ylabel ('Emission')\n",
    "plt.show()"
   ]
  },
  {
   "cell_type": "code",
   "execution_count": 80,
   "metadata": {},
   "outputs": [
    {
     "data": {
      "image/png": "[encoded data removed]",
      "text/plain": [
       "<Figure size 432x288 with 1 Axes>"
      ]
     },
     "metadata": {
      "needs_background": "light"
     },
     "output_type": "display_data"
    }
   ],
   "source": [
    "# Code option 2 on full dataset\n",
    "\n",
    "ax = sns.regplot(x=\"ENGINESIZE\", y=\"CO2EMISSIONS\", data=cdf)"
   ]
  },
  {
   "cell_type": "markdown",
   "metadata": {},
   "source": [
    "Question 47. To what extent my linear model correctly predicts the dependent variable ?"
   ]
  },
  {
   "cell_type": "markdown",
   "metadata": {},
   "source": [
    "Model evaluation compare the actual values and predicted values to calculate the accuracy of a regression model. Evaluation metrics provide a key role in the development of a model, as it provides insight to areas that require improvement. R-squared is not error, but is a popular metric for accuracy of your model. It represents how close the data are to the fitted regression line. The higher the R-squared, the better the model fits your data. Best possible score is 1.0 and it can be negative (because the model can be arbitrarily worse)"
   ]
  },
  {
   "cell_type": "code",
   "execution_count": 81,
   "metadata": {},
   "outputs": [
    {
     "name": "stdout",
     "output_type": "stream",
     "text": [
      "R score is:  0.7747532435279433\n"
     ]
    }
   ],
   "source": [
    "from sklearn.metrics import r2_score  # importing r-square module from sklearn library\n",
    "test_x = np.asanyarray(train[['ENGINESIZE']])  # converting dataframe into numpy array\n",
    "test_y = np.asanyarray(train[['CO2EMISSIONS']]) # converting dataframe into numpy array\n",
    "test_y_ = regr.predict(test_x)\n",
    "\n",
    "r = r2_score(test_y, test_y_)\n",
    "print('R score is: ',r)"
   ]
  },
  {
   "cell_type": "markdown",
   "metadata": {},
   "source": [
    "Question 48. How to model the relationship between a scalar response and more than one explanatory variables (multiple linear model)? "
   ]
  },
  {
   "cell_type": "code",
   "execution_count": 82,
   "metadata": {},
   "outputs": [
    {
     "name": "stdout",
     "output_type": "stream",
     "text": [
      "Intercept:  [65.61660467]\n",
      "Coefficients:  [[12.09305296  7.21556945  9.38900001]]\n"
     ]
    }
   ],
   "source": [
    "# what is the estimated multiple linear regresion ?\n",
    "regr1 = linear_model.LinearRegression()\n",
    "train_x1 = np.asanyarray(train[['ENGINESIZE','CYLINDERS','FUELCONSUMPTION_COMB']])\n",
    "train_y1 = np.asanyarray(train[['CO2EMISSIONS']])\n",
    "regr1.fit(train_x1,train_y1)\n",
    "print ('Intercept: ',regr1.intercept_)\n",
    "print ('Coefficients: ', regr1.coef_)"
   ]
  },
  {
   "cell_type": "markdown",
   "metadata": {},
   "source": [
    "Accuracy of my multiple linear model? "
   ]
  },
  {
   "cell_type": "markdown",
   "metadata": {},
   "source": [
    "OLS is a method for estimating the unknown parameters in a linear regression model. OLS chooses the\n",
    "parameters of a linear function of a set of explanatory variables by minimizing the sum of the squares of the\n",
    "differences between the target dependent variable and those predicted by the linear function. In other words, it\n",
    "tries to minimizes the sum of squared errors (SSE) or mean squared error (MSE) between the target variable (y)\n",
    "and our predicted output over all samples in the dataset. The mean squared error (MSE) tells you how close a regression line is to a set of points. It does this by taking the distances from the points to the regression line (these distances are the “errors”) and squaring them. The squaring is necessary to remove any negative signs. It also gives more weight to larger differences. It’s called the mean squared error as you’re finding the average of a set of errors. The lower the MSE, the better the forecast."
   ]
  },
  {
   "cell_type": "code",
   "execution_count": 83,
   "metadata": {},
   "outputs": [
    {
     "data": {
      "text/plain": [
       "567.8445528320149"
      ]
     },
     "execution_count": 83,
     "metadata": {},
     "output_type": "execute_result"
    }
   ],
   "source": [
    "y1_hat= regr1.predict(test[['ENGINESIZE','CYLINDERS','FUELCONSUMPTION_COMB']])\n",
    "x1 = np.asanyarray(test[['ENGINESIZE','CYLINDERS','FUELCONSUMPTION_COMB']])\n",
    "y1 = np.asanyarray(test[['CO2EMISSIONS']]) \n",
    "\n",
    "MSE  = np.mean((y1_hat - y1)**2)  # getting the Mean Square Error (means square difference between predicted and actual)\n",
    "MSE"
   ]
  },
  {
   "cell_type": "code",
   "execution_count": 84,
   "metadata": {},
   "outputs": [
    {
     "data": {
      "text/plain": [
       "0.8522991774684627"
      ]
     },
     "execution_count": 84,
     "metadata": {},
     "output_type": "execute_result"
    }
   ],
   "source": [
    "variance = regr1.score(x1,y1) # 1 is the perfect prediction\n",
    "variance"
   ]
  },
  {
   "cell_type": "markdown",
   "metadata": {},
   "source": [
    "Question 49. How can I predict a binary variable such as yes/no  (logistic classification model)? "
   ]
  },
  {
   "cell_type": "markdown",
   "metadata": {},
   "source": [
    "Logistic Regression is a classification technique used in Supervised Machine Learning. It uses a logistic function to model the dependent variable. The dependent variable is dichotomous in nature, i.e. there could only be two possible classes (eg.: either a food insecure household  or not). As a result, this technique is used while dealing with binary data. For the purpose of generating an logistic regression, I'm using a new dataset called 'ChurnData which you can find in my github account.  This log regression will  predict food security/fs  status  (food insecure =1 and not food insecure =0 ) looking at the farm size, age, income, total household of  income,  # employee on farm and presence of secondary  source of income as predictors.   "
   ]
  },
  {
   "cell_type": "code",
   "execution_count": 85,
   "metadata": {},
   "outputs": [],
   "source": [
    "f= 'https://raw.githubusercontent.com/naeljb/python/main/ChurnData.csv'"
   ]
  },
  {
   "cell_type": "code",
   "execution_count": 86,
   "metadata": {},
   "outputs": [],
   "source": [
    "df5 = pd.read_csv(f)  # reading my dataset "
   ]
  },
  {
   "cell_type": "code",
   "execution_count": 87,
   "metadata": {},
   "outputs": [],
   "source": [
    "# Definining the predictors (independent variable)\n",
    "\n",
    "x = np.asarray(df5[['land','age','income','HH_income','employee','second']])"
   ]
  },
  {
   "cell_type": "code",
   "execution_count": 88,
   "metadata": {},
   "outputs": [],
   "source": [
    "# Defining the dependent variable \n",
    "y = np.asarray(df5['fs'])"
   ]
  },
  {
   "cell_type": "markdown",
   "metadata": {},
   "source": [
    "Normalize Data: data Standardization give data zero mean and unit variance"
   ]
  },
  {
   "cell_type": "code",
   "execution_count": 89,
   "metadata": {},
   "outputs": [],
   "source": [
    "# Normalizing the dataset or x\n",
    "\n",
    "from sklearn.preprocessing import StandardScaler # importing the library for normalizing "
   ]
  },
  {
   "cell_type": "code",
   "execution_count": 90,
   "metadata": {},
   "outputs": [
    {
     "name": "stdout",
     "output_type": "stream",
     "text": [
      "[[-1.13518441 -0.62595491 -0.4588971   0.4751423  -0.58477841 -0.85972695]\n",
      " [-0.11604313 -0.62595491  0.03454064 -0.32886061 -1.14437497 -0.85972695]\n",
      " [-0.57928917 -0.85594447 -0.261522   -0.35227817 -0.92053635 -0.85972695]\n",
      " ...\n",
      " [-1.36680743 -0.7026181  -0.16283445 -0.21957866 -0.02518185 -0.85972695]\n",
      " [-0.53296457 -0.85594447 -1.14970993 -0.39130744 -0.58477841 -0.85972695]\n",
      " [ 1.18104577  0.67731925  0.42929083  0.89665839  1.31784991  1.16316   ]]\n"
     ]
    }
   ],
   "source": [
    "x = StandardScaler().fit(x).transform(x) # normalizing \n",
    "print(x)"
   ]
  },
  {
   "cell_type": "markdown",
   "metadata": {},
   "source": [
    "for mor info: https://www.youtube.com/watch?v=ZddUwo4R5ug"
   ]
  },
  {
   "cell_type": "code",
   "execution_count": 91,
   "metadata": {},
   "outputs": [
    {
     "name": "stdout",
     "output_type": "stream",
     "text": [
      "train set (160, 6) (160,)\n"
     ]
    }
   ],
   "source": [
    "# Slipting into train and testing set (code option 2)\n",
    "\n",
    "from sklearn.model_selection import train_test_split # importing train/test module\n",
    "x_train,x_test,y_train,y_test = train_test_split(x,y, test_size = 0.2,random_state =4)  # spliting into training of 80%\n",
    "print('train set', x_train.shape, y_train.shape)                                               "
   ]
  },
  {
   "cell_type": "markdown",
   "metadata": {},
   "source": [
    "The version of Logistic Regression in Scikit-learn, support regularization. Regularization is a technique used to\n",
    "solve the overfitting problem in machine learning models. C parameter indicates inverse of regularization\n",
    "strength which must be a positive float. Smaller values specify stronger regularization. Now lets fit our model\n",
    "with train set:"
   ]
  },
  {
   "cell_type": "code",
   "execution_count": 92,
   "metadata": {},
   "outputs": [
    {
     "data": {
      "text/plain": [
       "LogisticRegression(C=0.01, solver='liblinear')"
      ]
     },
     "execution_count": 92,
     "metadata": {},
     "output_type": "execute_result"
    }
   ],
   "source": [
    "from sklearn.linear_model import LogisticRegression\n",
    "from sklearn.metrics import confusion_matrix\n",
    "LR = LogisticRegression(C=0.01, solver='liblinear').fit(x_train,y_train)\n",
    "LR"
   ]
  },
  {
   "cell_type": "markdown",
   "metadata": {},
   "source": [
    "Now I can predict using my test set (for illustration, I'm predicting the first 10 households in my test set)"
   ]
  },
  {
   "cell_type": "code",
   "execution_count": 93,
   "metadata": {},
   "outputs": [
    {
     "data": {
      "text/plain": [
       "array([0, 0, 0, 0, 0, 0, 0, 0, 1, 0], dtype=int64)"
      ]
     },
     "execution_count": 93,
     "metadata": {},
     "output_type": "execute_result"
    }
   ],
   "source": [
    "yhat = LR.predict(x_test)\n",
    "yhat[0:10]"
   ]
  },
  {
   "cell_type": "markdown",
   "metadata": {},
   "source": [
    "predict_proba returns estimates for all classes, ordered by the label of classes. So, the first column is the\n",
    "probability of class 1, P(Y=1|X), and second column is probability of class 0, P(Y=0|X):"
   ]
  },
  {
   "cell_type": "code",
   "execution_count": 94,
   "metadata": {},
   "outputs": [
    {
     "data": {
      "text/plain": [
       "array([[0.55084393, 0.44915607],\n",
       "       [0.58894579, 0.41105421],\n",
       "       [0.54561547, 0.45438453],\n",
       "       [0.63735317, 0.36264683],\n",
       "       [0.55707784, 0.44292216],\n",
       "       [0.53654226, 0.46345774],\n",
       "       [0.53504402, 0.46495598],\n",
       "       [0.58883148, 0.41116852],\n",
       "       [0.41941097, 0.58058903],\n",
       "       [0.62707511, 0.37292489]])"
      ]
     },
     "execution_count": 94,
     "metadata": {},
     "output_type": "execute_result"
    }
   ],
   "source": [
    "yhat_prob = LR.predict_proba(x_test)\n",
    "yhat_prob[0:10]"
   ]
  },
  {
   "cell_type": "markdown",
   "metadata": {},
   "source": [
    "How precise is my logistic classification Model ?"
   ]
  },
  {
   "cell_type": "markdown",
   "metadata": {},
   "source": [
    "Option 1: Confusion Matrix\n",
    "    \n",
    "A confusion matrix is a tabular summary of the number of correct and incorrect predictions made by a classifier. It can be used to evaluate the performance of a classification model through the calculation of performance metrics like accuracy, precision, recall, and F1-score."
   ]
  },
  {
   "cell_type": "code",
   "execution_count": 95,
   "metadata": {},
   "outputs": [
    {
     "name": "stdout",
     "output_type": "stream",
     "text": [
      "[[ 6  9]\n",
      " [ 2 23]]\n"
     ]
    }
   ],
   "source": [
    "from sklearn.metrics import classification_report, confusion_matrix\n",
    "import itertools\n",
    "def plot_confusion_matrix(cm, classes, normalize=False, title='Confusion matrix', cmap=plt.cm.Blues):\n",
    "    \n",
    "     \"\"\"\n",
    "     This function prints and plots the confusion matrix.\n",
    "     Normalization can be applied by setting `normalize=True`.\n",
    "     \"\"\"\n",
    "     if normalize:\n",
    "         cm = cm.astype('float') / cm.sum(axis=1)[:, np.newaxis]\n",
    "         print(\"Normalized confusion matrix\")\n",
    "     else:\n",
    "         print('Confusion matrix, without normalization')\n",
    "     print(cm)\n",
    "     plt.imshow(cm, interpolation='nearest', cmap=cmap)\n",
    "     plt.title(title)\n",
    "     plt.colorbar()\n",
    "     tick_marks = np.arange(len(classes))\n",
    "     plt.xticks(tick_marks, classes, rotation=45)\n",
    "     plt.yticks(tick_marks, classes)\n",
    " \n",
    "     fmt = '.2f' if normalize else 'd'\n",
    "     thresh = cm.max() / 2.\n",
    "     for i, j in itertools.product(range(cm.shape[0]), range(cm.shape[1])):\n",
    "         plt.text(j, i, format(cm[i, j], fmt),\n",
    "                 horizontalalignment=\"center\",\n",
    "                 color=\"white\" if cm[i, j] > thresh else \"black\")\n",
    "     plt.tight_layout()\n",
    "     plt.ylabel('True label')\n",
    "     plt.xlabel('Predicted label')\n",
    "    \n",
    "print(confusion_matrix(y_test, yhat, labels=[1,0]))"
   ]
  },
  {
   "cell_type": "code",
   "execution_count": 96,
   "metadata": {},
   "outputs": [
    {
     "name": "stdout",
     "output_type": "stream",
     "text": [
      "Confusion matrix, without normalization\n",
      "[[ 6  9]\n",
      " [ 2 23]]\n"
     ]
    },
    {
     "data": {
      "image/png": "[encoded data removed]",
      "text/plain": [
       "<Figure size 432x288 with 2 Axes>"
      ]
     },
     "metadata": {
      "needs_background": "light"
     },
     "output_type": "display_data"
    }
   ],
   "source": [
    "# Compute confusion matrix\n",
    "\n",
    "cnf_matrix = confusion_matrix(y_test, yhat, labels=[1,0])\n",
    "np.set_printoptions(precision=2)\n",
    "\n",
    "# Plot non-normalized confusion matrix\n",
    "plt.figure()\n",
    "plot_confusion_matrix(cnf_matrix, classes=['FS=1','FS=0'],normalize= False, title=\n",
    "'Confusion matrix')"
   ]
  },
  {
   "cell_type": "markdown",
   "metadata": {},
   "source": [
    "The first row is for households whose actual Food Security status (FS) value in test set is 1. \n",
    "Out of 40 households, the food security status value of 15 of them is 1. And out of these 15, the classifier correctly predicted 6 of them as 1, and 9 of them as 0.\n",
    "\n",
    "It means, for 6 households, the actual FS value status were 1 in test set, and classifier also correctly predicted those as 1. However, while the actual label of 9 household were 1, the classifier predicted those as 0, which is not very\n",
    "good. I consider it as error of my model for first row.\n",
    "\n",
    "What about the household with FS status value 0? Looking at the second row, there were 25 household whom their FS value were 0. The classifier correctly predicted 23 of them as 0, and two of them wrongly as 1. So, it has done a good job in predicting the household  with FS value 0. \n",
    "\n",
    "A good thing about confusion matrix is that shows the model’s ability to correctly predict or separate the classes. In specific case of binary classifier, such as this example, I can interpret these numbers as the count of True Positives, False Positives, True Negatives, and False Negatives."
   ]
  },
  {
   "cell_type": "markdown",
   "metadata": {},
   "source": [
    "Generating a logistic classification report:  \n",
    "\n",
    "Based on the count of each section, I can calculate precision and recall of each label:\n",
    "\n",
    "* Precision is a measure of the accuracy provided that a class label has been predicted.It is defined by:precision = TP / (TP+FP). In my example, for FS =1  it would be 6/(6+2) = 0.75\n",
    "\n",
    "* Recall is true positive rate. It is defined as: Recall = TP / (TP + FN)\n",
    "\n",
    "Now I'm  in the position to calculate the F1 scores for each label based on the precision and recall\n",
    "of that label. The F1 score is the harmonic average of the precision and recall, where an F1 score reaches its best value at 1\n",
    "(perfect precision and recall) and worst at 0. It is a good way to show that my classifer has a good value for both recall and precision. And finally, I can tell the average accuracy for my classifier is the average of the F1-score for both labels,\n",
    "which is 0.70 ."
   ]
  },
  {
   "cell_type": "code",
   "execution_count": 97,
   "metadata": {},
   "outputs": [
    {
     "name": "stdout",
     "output_type": "stream",
     "text": [
      "              precision    recall  f1-score   support\n",
      "\n",
      "           0       0.72      0.92      0.81        25\n",
      "           1       0.75      0.40      0.52        15\n",
      "\n",
      "    accuracy                           0.73        40\n",
      "   macro avg       0.73      0.66      0.66        40\n",
      "weighted avg       0.73      0.72      0.70        40\n",
      "\n"
     ]
    }
   ],
   "source": [
    "print (classification_report(y_test, yhat))"
   ]
  },
  {
   "cell_type": "markdown",
   "metadata": {},
   "source": [
    "Option 2: Log Loss\n",
    " \n",
    "In logistic regression, the output can be the probability of household  status is  food insecurity (status  is yes or equals to 1). This probability is a value between 0 and 1. Log loss( Logarithmic loss) measures the performance of a classifier where the predicted output is a probability value between 0 and 1."
   ]
  },
  {
   "cell_type": "code",
   "execution_count": 98,
   "metadata": {},
   "outputs": [
    {
     "data": {
      "text/plain": [
       "0.6099869851297564"
      ]
     },
     "execution_count": 98,
     "metadata": {},
     "output_type": "execute_result"
    }
   ],
   "source": [
    "from sklearn.metrics import log_loss\n",
    "log_loss(y_test, yhat_prob)"
   ]
  },
  {
   "cell_type": "markdown",
   "metadata": {},
   "source": [
    "Question 50. How can I classify a new data point based on how its neighbors are classified? "
   ]
  },
  {
   "cell_type": "markdown",
   "metadata": {},
   "source": [
    "KNN: K Nearest Neighbor is a algorithms in Supervise Machine Learning. It classifies the data point on how its neighbor is classified. New data points are classified based on the similarity measure of the earlier stored data points. For example, I have a dataset on individuals characteristics (income, age, household size) that includes also the level of vulnerability (none, crisis, emergency) for each  individual. KNN will store similar measures. And, when a new individual comes, it will check its similarity with the characteristics and vulnerability then will classify this new individual level of vulnerability. K represents the number of the nearest neighbors (households) that I want used to classify my new data points (households) in term of vulnerability.\n",
    "\n",
    "for more info: https://towardsdatascience.com/knn-algorithm-what-when-why-how-41405c16c36f\n",
    "\n",
    "To illustrate that, I'm using my dataset called df. But, before I need to do some data transformation so that my KNN algorithm do not generate errors. "
   ]
  },
  {
   "cell_type": "code",
   "execution_count": 99,
   "metadata": {},
   "outputs": [
    {
     "data": {
      "text/plain": [
       "array(['None', 'crisis', nan], dtype=object)"
      ]
     },
     "execution_count": 99,
     "metadata": {},
     "output_type": "execute_result"
    }
   ],
   "source": [
    "# Checking the value label for vulnerability \n",
    "\n",
    "df['vulnerability'].unique() "
   ]
  },
  {
   "cell_type": "code",
   "execution_count": 100,
   "metadata": {},
   "outputs": [],
   "source": [
    "# Treating my missing values (nan). I'm assuming missing values are emergency label\n",
    "\n",
    "df['vulnerability'].replace(np.nan,\"emergency\",inplace =True)   "
   ]
  },
  {
   "cell_type": "code",
   "execution_count": 101,
   "metadata": {},
   "outputs": [
    {
     "data": {
      "text/plain": [
       "array(['None', 'crisis', 'emergency'], dtype=object)"
      ]
     },
     "execution_count": 101,
     "metadata": {},
     "output_type": "execute_result"
    }
   ],
   "source": [
    "# Checking to ensure that my missing values (nan) were replaced by emergency\n",
    "\n",
    "df['vulnerability'].unique() "
   ]
  },
  {
   "cell_type": "code",
   "execution_count": 102,
   "metadata": {},
   "outputs": [],
   "source": [
    "# Transforming vulnerability variable into a new integer variable for runing KNN algorithm\n",
    "\n",
    "df['vulnerability1']=df.vulnerability.map({'None':0,'crisis':1, 'emergency':2}) "
   ]
  },
  {
   "cell_type": "code",
   "execution_count": 103,
   "metadata": {},
   "outputs": [
    {
     "data": {
      "text/plain": [
       "array([0, 1, 2], dtype=int64)"
      ]
     },
     "execution_count": 103,
     "metadata": {},
     "output_type": "execute_result"
    }
   ],
   "source": [
    "# checking transformation \n",
    "\n",
    "df['vulnerability1'].unique() "
   ]
  },
  {
   "cell_type": "code",
   "execution_count": 104,
   "metadata": {},
   "outputs": [
    {
     "data": {
      "text/plain": [
       "dtype('int64')"
      ]
     },
     "execution_count": 104,
     "metadata": {},
     "output_type": "execute_result"
    }
   ],
   "source": [
    "# Checking data type for my new created variable \n",
    "\n",
    "df['vulnerability1'].dtypes "
   ]
  },
  {
   "cell_type": "code",
   "execution_count": 105,
   "metadata": {},
   "outputs": [
    {
     "data": {
      "text/plain": [
       "1    3496\n",
       "0    1808\n",
       "2       1\n",
       "Name: vulnerability1, dtype: int64"
      ]
     },
     "execution_count": 105,
     "metadata": {},
     "output_type": "execute_result"
    }
   ],
   "source": [
    "# Checking the number of values for each value label\n",
    "\n",
    "df['vulnerability1'].value_counts()"
   ]
  },
  {
   "cell_type": "markdown",
   "metadata": {},
   "source": [
    "To use scikit-learn library, I have to convert the Pandas data frame to a Numpy array"
   ]
  },
  {
   "cell_type": "code",
   "execution_count": 106,
   "metadata": {},
   "outputs": [
    {
     "data": {
      "text/plain": [
       "array([[1.54e+07, 2.20e+01, 4.00e+00, 2.00e+01],\n",
       "       [1.14e+07, 2.00e+01, 3.00e+00, 1.50e+01],\n",
       "       [1.31e+07, 2.00e+01, 4.00e+00, 2.00e+01],\n",
       "       [1.42e+07, 2.00e+01, 6.00e+00, 3.00e+01],\n",
       "       [1.57e+07, 2.00e+01, 3.00e+00, 1.50e+01]])"
      ]
     },
     "execution_count": 106,
     "metadata": {},
     "output_type": "execute_result"
    }
   ],
   "source": [
    "# Code option 1  for converting Pandas data frame to Numpy array\n",
    "\n",
    "x1 = np.asarray(df[['id','age','size','indirect_bene']])\n",
    "x1[0:5]"
   ]
  },
  {
   "cell_type": "code",
   "execution_count": 107,
   "metadata": {},
   "outputs": [
    {
     "data": {
      "text/plain": [
       "array([[1.54e+07, 2.20e+01, 4.00e+00, 2.00e+01],\n",
       "       [1.14e+07, 2.00e+01, 3.00e+00, 1.50e+01],\n",
       "       [1.31e+07, 2.00e+01, 4.00e+00, 2.00e+01],\n",
       "       [1.42e+07, 2.00e+01, 6.00e+00, 3.00e+01],\n",
       "       [1.57e+07, 2.00e+01, 3.00e+00, 1.50e+01]])"
      ]
     },
     "execution_count": 107,
     "metadata": {},
     "output_type": "execute_result"
    }
   ],
   "source": [
    "# Code option 2  for converting Pandas data frame to Numpy array\n",
    "\n",
    "x1 = df[['id','age','size','indirect_bene']].values\n",
    "x1[0:5]"
   ]
  },
  {
   "cell_type": "code",
   "execution_count": 108,
   "metadata": {},
   "outputs": [
    {
     "data": {
      "text/plain": [
       "array([0, 1, 1, 1, 0], dtype=int64)"
      ]
     },
     "execution_count": 108,
     "metadata": {},
     "output_type": "execute_result"
    }
   ],
   "source": [
    "y1 = df['vulnerability1'].values\n",
    "y1[0:5]"
   ]
  },
  {
   "cell_type": "code",
   "execution_count": 109,
   "metadata": {},
   "outputs": [
    {
     "data": {
      "text/plain": [
       "array([[ 0.54,  0.65, -0.02, -0.02],\n",
       "       [-1.17, -0.57, -0.63, -0.63],\n",
       "       [-0.42, -0.57, -0.02, -0.02],\n",
       "       [ 0.03, -0.57,  1.2 ,  1.2 ],\n",
       "       [ 0.7 , -0.57, -0.63, -0.63]])"
      ]
     },
     "execution_count": 109,
     "metadata": {},
     "output_type": "execute_result"
    }
   ],
   "source": [
    "# Normalization and to float data type\n",
    "# no need to import again normalization module as this was done above under the log classification \n",
    "\n",
    "x1 = StandardScaler().fit(x1).transform(x1.astype(float))\n",
    "x1[0:5]"
   ]
  },
  {
   "cell_type": "code",
   "execution_count": 110,
   "metadata": {},
   "outputs": [
    {
     "name": "stdout",
     "output_type": "stream",
     "text": [
      "Train set: (4244, 4) (4244,)\n",
      "Test set: (1061, 4) (1061,)\n"
     ]
    }
   ],
   "source": [
    "#  Defining training and testing sets \n",
    "#  No need to import  train_test split module as this was done above under the log classification\n",
    "\n",
    "x1_train, x1_test, y1_train, y1_test = train_test_split( x1, y1, test_size=0.2, random_state=4)\n",
    "\n",
    "# printing size of training set for x1 and y1\n",
    "print ('Train set:', x1_train.shape, y1_train.shape) \n",
    "\n",
    "# printing size of test set for x1 and y1\n",
    "print ('Test set:', x1_test.shape, y1_test.shape)    "
   ]
  },
  {
   "cell_type": "code",
   "execution_count": 111,
   "metadata": {},
   "outputs": [],
   "source": [
    "# Importing KNN module from sklearn\n",
    "\n",
    "from sklearn.neighbors import KNeighborsClassifier"
   ]
  },
  {
   "cell_type": "markdown",
   "metadata": {},
   "source": [
    "I set my K = 4  so that I can generate an initial model and after I will choose the best/optimum K"
   ]
  },
  {
   "cell_type": "code",
   "execution_count": 112,
   "metadata": {},
   "outputs": [],
   "source": [
    "k = 4"
   ]
  },
  {
   "cell_type": "code",
   "execution_count": 113,
   "metadata": {},
   "outputs": [
    {
     "data": {
      "text/plain": [
       "KNeighborsClassifier(n_neighbors=4)"
      ]
     },
     "execution_count": 113,
     "metadata": {},
     "output_type": "execute_result"
    }
   ],
   "source": [
    "# Estimating the KNN model  with K = 4 that I called neigh\n",
    "\n",
    "neigh = KNeighborsClassifier(n_neighbors = k).fit(x1_train,y1_train)\n",
    "neigh"
   ]
  },
  {
   "cell_type": "markdown",
   "metadata": {},
   "source": [
    "I can use my model to predict the test set. Below I'm predicting on the first 10 on my test model and then compare with the actual"
   ]
  },
  {
   "cell_type": "code",
   "execution_count": 114,
   "metadata": {},
   "outputs": [
    {
     "data": {
      "text/plain": [
       "array([1, 1, 0, 0, 1, 1, 1, 1, 1, 1], dtype=int64)"
      ]
     },
     "execution_count": 114,
     "metadata": {},
     "output_type": "execute_result"
    }
   ],
   "source": [
    "y1hat = neigh.predict(x1_test)\n",
    "y1hat[0:10]"
   ]
  },
  {
   "cell_type": "code",
   "execution_count": 115,
   "metadata": {},
   "outputs": [
    {
     "data": {
      "text/plain": [
       "array([0, 1, 1, 1, 0, 1, 0, 1, 0, 1], dtype=int64)"
      ]
     },
     "execution_count": 115,
     "metadata": {},
     "output_type": "execute_result"
    }
   ],
   "source": [
    "y1[0:10]"
   ]
  },
  {
   "cell_type": "markdown",
   "metadata": {},
   "source": [
    "Accuracy evaluation:\n",
    "    \n",
    "In multilabel classification, accuracy classification score is a function that computes subset accuracy. This function is equal to the jaccard_similarity_score function. Essentially, it calculates how closely the actual labels and predicted labels are matched in the test set."
   ]
  },
  {
   "cell_type": "code",
   "execution_count": 116,
   "metadata": {},
   "outputs": [
    {
     "name": "stdout",
     "output_type": "stream",
     "text": [
      "Train set Accuracy:  0.9764373232799246\n",
      "Test set Accuracy:  0.9566446748350612\n"
     ]
    }
   ],
   "source": [
    "from sklearn import metrics\n",
    "print(\"Train set Accuracy: \", metrics.accuracy_score(y1_train, neigh.predict(x1_train)))\n",
    "print(\"Test set Accuracy: \", metrics.accuracy_score(y1_test, y1hat))\n"
   ]
  },
  {
   "cell_type": "markdown",
   "metadata": {},
   "source": [
    "What about other K?\n",
    "\n",
    "K in KNN, is the number of nearest neighbors to examine. It is supposed to be specified by the user. So, how can I choose right value for K? The general solution is to reserve a part of my data for testing the accuracy of the model. Then  I chose k =1,  I use the training part for modeling, and  I calculate the accuracy of prediction using all samples in my test set. I repeat this process, increasing the k, and I see which k is the best for my model. I can calculate the accuracy of KNN for different Ks.\n",
    "\n",
    "In my example, I will assess using 1 to 20 Neighbors."
   ]
  },
  {
   "cell_type": "markdown",
   "metadata": {},
   "source": [
    "# Ks = 21\n",
    "mean_acc = np.zeros((Ks-1))\n",
    "std_acc = np.zeros((Ks-1))\n",
    "ConfustionMx = [];\n",
    "\n",
    "for n in range(1,Ks):\n",
    "    \n",
    "    #Train Model and Predict \n",
    "    neigh = KNeighborsClassifier(n_neighbors = n).fit(x1_train,y1_train)\n",
    "    y1hat=neigh.predict(x1_test)\n",
    "    mean_acc[n-1] = metrics.accuracy_score(y1_test, y1hat)\n",
    " \n",
    "    std_acc[n-1]=np.std(y1hat==y1_test)/np.sqrt(y1hat.shape[0])\n",
    "mean_acc\n"
   ]
  },
  {
   "cell_type": "markdown",
   "metadata": {},
   "source": [
    "Plotting my model accuracy for the 20 different number of Neighbors"
   ]
  },
  {
   "cell_type": "code",
   "execution_count": 118,
   "metadata": {},
   "outputs": [
    {
     "data": {
      "image/png": "[encoded data removed]",
      "text/plain": [
       "<Figure size 432x288 with 1 Axes>"
      ]
     },
     "metadata": {
      "needs_background": "light"
     },
     "output_type": "display_data"
    }
   ],
   "source": [
    "plt.plot(range(1,Ks),mean_acc,'g')\n",
    "plt.fill_between(range(1,Ks),mean_acc - 1 * std_acc,mean_acc + 1 * std_acc, alpha=0.10)\n",
    "plt.legend(('Accuracy ', '+/- 3xstd'))\n",
    "plt.ylabel('Accuracy ')\n",
    "plt.xlabel('Number of Neighbors (K)')\n",
    "plt.tight_layout()\n",
    "plt.show()"
   ]
  },
  {
   "cell_type": "markdown",
   "metadata": {},
   "source": [
    "Printing  the K with the highest accuracy"
   ]
  },
  {
   "cell_type": "code",
   "execution_count": 119,
   "metadata": {},
   "outputs": [
    {
     "name": "stdout",
     "output_type": "stream",
     "text": [
      "The best accuracy was with 0.9726672950047125 with k= 1\n"
     ]
    }
   ],
   "source": [
    "print( \"The best accuracy was with\", mean_acc.max(), \"with k=\", mean_acc.argmax()+1)"
   ]
  },
  {
   "cell_type": "markdown",
   "metadata": {},
   "source": [
    "Now I can re-run the KNN module with my best estimated K  on my training set and then predict using my test set"
   ]
  },
  {
   "cell_type": "code",
   "execution_count": 120,
   "metadata": {},
   "outputs": [],
   "source": [
    "k_best =1"
   ]
  },
  {
   "cell_type": "code",
   "execution_count": 121,
   "metadata": {},
   "outputs": [
    {
     "data": {
      "text/plain": [
       "KNeighborsClassifier(n_neighbors=1)"
      ]
     },
     "execution_count": 121,
     "metadata": {},
     "output_type": "execute_result"
    }
   ],
   "source": [
    "neigh_best = KNeighborsClassifier(n_neighbors = k_best).fit(x1_train,y1_train)\n",
    "neigh_best"
   ]
  },
  {
   "cell_type": "code",
   "execution_count": 122,
   "metadata": {},
   "outputs": [
    {
     "data": {
      "text/plain": [
       "array([1, 1, 0, 1, 1, 1, 1, 1, 1, 1], dtype=int64)"
      ]
     },
     "execution_count": 122,
     "metadata": {},
     "output_type": "execute_result"
    }
   ],
   "source": [
    "y1hat = neigh_best.predict(x1_test)\n",
    "y1hat[0:10]"
   ]
  },
  {
   "cell_type": "markdown",
   "metadata": {},
   "source": [
    "Clustering and K-Mean : \n",
    "\n",
    "Clustering is an Unsupervised Machine Learning method of identifying and grouping similar data points in larger datasets without concern for the specific outcome. Clustering (sometimes called cluster analysis) is usually used to classify data into structures that are more easily understood and manipulated. It’s worth keeping in mind that while it’s a popular strategy, clustering isn’t a monolithic term, as there are multiple algorithms that use cluster analysis with different mechanisms. \n",
    "\n",
    "For example, with my household dataset (df), and I want to apply a segmentation on this historical data. The segmentation will partition households into groups that have similar characteristics. It is a significant strategy as I can target these specific groups and effectively design and implement specific intervention (provision of goods and services) based on the needs and/or characteristics of each groups. \n",
    "\n",
    "K-means clustering is one of the simplest and popular cluster algorithms. I need to   define a target number k, which refers to the number of centroids that I need in the dataset. A centroid is the imaginary or real location representing the center of the cluster. Every data point is allocated to each of the clusters through reducing the in-cluster sum of squares. In other words,  my the K-means algorithm identifies k number of centroids, and then allocates every data point to the nearest cluster, while keeping the centroids as small as possible. The ‘means’ in the K-means refers to averaging of the data; that is, finding the centroid.\n",
    "\n",
    "Below is an illustrative representation of what K-means does"
   ]
  },
  {
   "cell_type": "code",
   "execution_count": 123,
   "metadata": {},
   "outputs": [
    {
     "data": {
      "image/png": "[encoded data removed]",
      "text/plain": [
       "<IPython.core.display.Image object>"
      ]
     },
     "execution_count": 123,
     "metadata": {},
     "output_type": "execute_result"
    }
   ],
   "source": [
    "display.Image(\"C:/Users/Nael/Desktop/Fourth Article/pic2.png\")"
   ]
  },
  {
   "cell_type": "code",
   "execution_count": 124,
   "metadata": {},
   "outputs": [],
   "source": [
    "# My K-mean algorithm is  under development "
   ]
  }
 ],
 "metadata": {
  "kernelspec": {
   "display_name": "Python 3",
   "language": "python",
   "name": "python3"
  },
  "language_info": {
   "codemirror_mode": {
    "name": "ipython",
    "version": 3
   },
   "file_extension": ".py",
   "mimetype": "text/x-python",
   "name": "python",
   "nbconvert_exporter": "python",
   "pygments_lexer": "ipython3",
   "version": "3.8.5"
  }
 },
 "nbformat": 4,
 "nbformat_minor": 4
}
