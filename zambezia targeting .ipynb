{
 "cells": [
  {
   "cell_type": "code",
   "execution_count": 1,
   "metadata": {},
   "outputs": [],
   "source": [
    "# importing the necessary libraries \n",
    "import pandas as pd\n",
    "import numpy as np\n",
    "import math\n",
    "import scipy.stats as stats\n",
    "import matplotlib.pyplot as plt\n",
    "import seaborn as sns"
   ]
  },
  {
   "cell_type": "code",
   "execution_count": 2,
   "metadata": {},
   "outputs": [
    {
     "data": {
      "text/html": [
       "<div>\n",
       "<style scoped>\n",
       "    .dataframe tbody tr th:only-of-type {\n",
       "        vertical-align: middle;\n",
       "    }\n",
       "\n",
       "    .dataframe tbody tr th {\n",
       "        vertical-align: top;\n",
       "    }\n",
       "\n",
       "    .dataframe thead th {\n",
       "        text-align: right;\n",
       "    }\n",
       "</style>\n",
       "<table border=\"1\" class=\"dataframe\">\n",
       "  <thead>\n",
       "    <tr style=\"text-align: right;\">\n",
       "      <th></th>\n",
       "      <th>district</th>\n",
       "      <th>population</th>\n",
       "    </tr>\n",
       "  </thead>\n",
       "  <tbody>\n",
       "    <tr>\n",
       "      <th>0</th>\n",
       "      <td>Alto Molocue</td>\n",
       "      <td>384472</td>\n",
       "    </tr>\n",
       "    <tr>\n",
       "      <th>1</th>\n",
       "      <td>Dere</td>\n",
       "      <td>121763</td>\n",
       "    </tr>\n",
       "    <tr>\n",
       "      <th>2</th>\n",
       "      <td>Gile</td>\n",
       "      <td>237367</td>\n",
       "    </tr>\n",
       "    <tr>\n",
       "      <th>3</th>\n",
       "      <td>Gurue</td>\n",
       "      <td>465560</td>\n",
       "    </tr>\n",
       "    <tr>\n",
       "      <th>4</th>\n",
       "      <td>Ile</td>\n",
       "      <td>214027</td>\n",
       "    </tr>\n",
       "    <tr>\n",
       "      <th>5</th>\n",
       "      <td>Lugela</td>\n",
       "      <td>202427</td>\n",
       "    </tr>\n",
       "    <tr>\n",
       "      <th>6</th>\n",
       "      <td>Mocuba</td>\n",
       "      <td>446118</td>\n",
       "    </tr>\n",
       "    <tr>\n",
       "      <th>7</th>\n",
       "      <td>Morrumbala</td>\n",
       "      <td>410675</td>\n",
       "    </tr>\n",
       "    <tr>\n",
       "      <th>8</th>\n",
       "      <td>Mulevala</td>\n",
       "      <td>117370</td>\n",
       "    </tr>\n",
       "    <tr>\n",
       "      <th>9</th>\n",
       "      <td>Namarroi</td>\n",
       "      <td>157854</td>\n",
       "    </tr>\n",
       "  </tbody>\n",
       "</table>\n",
       "</div>"
      ],
      "text/plain": [
       "        district  population \n",
       "0  Alto Molocue        384472\n",
       "1           Dere       121763\n",
       "2           Gile       237367\n",
       "3          Gurue       465560\n",
       "4            Ile       214027\n",
       "5         Lugela       202427\n",
       "6         Mocuba       446118\n",
       "7    Morrumbala        410675\n",
       "8       Mulevala       117370\n",
       "9       Namarroi       157854"
      ]
     },
     "execution_count": 2,
     "metadata": {},
     "output_type": "execute_result"
    }
   ],
   "source": [
    "# loading my dataset?\n",
    "d = \"C:/Users/Nael/Desktop/zambezia.csv\"  # providing the dataset path\n",
    "df = pd.read_csv(d)    # reading the csv file and saving as df \n",
    "df"
   ]
  },
  {
   "cell_type": "code",
   "execution_count": 3,
   "metadata": {},
   "outputs": [
    {
     "data": {
      "text/plain": [
       "district       object\n",
       "population      int64\n",
       "dtype: object"
      ]
     },
     "execution_count": 3,
     "metadata": {},
     "output_type": "execute_result"
    }
   ],
   "source": [
    "# Checking the data type in each column\n",
    "df.dtypes"
   ]
  },
  {
   "cell_type": "code",
   "execution_count": 4,
   "metadata": {},
   "outputs": [
    {
     "data": {
      "text/plain": [
       "array(['district', 'population '], dtype=object)"
      ]
     },
     "execution_count": 4,
     "metadata": {},
     "output_type": "execute_result"
    }
   ],
   "source": [
    "# Checking the name of each column\n",
    "df.columns.values"
   ]
  },
  {
   "cell_type": "code",
   "execution_count": 5,
   "metadata": {},
   "outputs": [
    {
     "data": {
      "text/html": [
       "<div>\n",
       "<style scoped>\n",
       "    .dataframe tbody tr th:only-of-type {\n",
       "        vertical-align: middle;\n",
       "    }\n",
       "\n",
       "    .dataframe tbody tr th {\n",
       "        vertical-align: top;\n",
       "    }\n",
       "\n",
       "    .dataframe thead th {\n",
       "        text-align: right;\n",
       "    }\n",
       "</style>\n",
       "<table border=\"1\" class=\"dataframe\">\n",
       "  <thead>\n",
       "    <tr style=\"text-align: right;\">\n",
       "      <th></th>\n",
       "      <th>district</th>\n",
       "      <th>population</th>\n",
       "      <th>pop_target</th>\n",
       "      <th>household</th>\n",
       "      <th>male</th>\n",
       "      <th>female</th>\n",
       "      <th>boy</th>\n",
       "      <th>girl</th>\n",
       "      <th>u5</th>\n",
       "      <th>u2</th>\n",
       "    </tr>\n",
       "  </thead>\n",
       "  <tbody>\n",
       "    <tr>\n",
       "      <th>0</th>\n",
       "      <td>Alto Molocue</td>\n",
       "      <td>384472</td>\n",
       "      <td>269130.0</td>\n",
       "      <td>53826.0</td>\n",
       "      <td>129182.0</td>\n",
       "      <td>139948.0</td>\n",
       "      <td>22957.0</td>\n",
       "      <td>22257.0</td>\n",
       "      <td>45214.0</td>\n",
       "      <td>18086.0</td>\n",
       "    </tr>\n",
       "    <tr>\n",
       "      <th>1</th>\n",
       "      <td>Dere</td>\n",
       "      <td>121763</td>\n",
       "      <td>85234.0</td>\n",
       "      <td>17047.0</td>\n",
       "      <td>40912.0</td>\n",
       "      <td>44322.0</td>\n",
       "      <td>7270.0</td>\n",
       "      <td>7049.0</td>\n",
       "      <td>14319.0</td>\n",
       "      <td>5728.0</td>\n",
       "    </tr>\n",
       "    <tr>\n",
       "      <th>2</th>\n",
       "      <td>Gile</td>\n",
       "      <td>237367</td>\n",
       "      <td>166157.0</td>\n",
       "      <td>33231.0</td>\n",
       "      <td>79755.0</td>\n",
       "      <td>86402.0</td>\n",
       "      <td>14173.0</td>\n",
       "      <td>13741.0</td>\n",
       "      <td>27914.0</td>\n",
       "      <td>11166.0</td>\n",
       "    </tr>\n",
       "    <tr>\n",
       "      <th>3</th>\n",
       "      <td>Gurue</td>\n",
       "      <td>465560</td>\n",
       "      <td>325892.0</td>\n",
       "      <td>65178.0</td>\n",
       "      <td>156428.0</td>\n",
       "      <td>169464.0</td>\n",
       "      <td>27799.0</td>\n",
       "      <td>26951.0</td>\n",
       "      <td>54750.0</td>\n",
       "      <td>21900.0</td>\n",
       "    </tr>\n",
       "    <tr>\n",
       "      <th>4</th>\n",
       "      <td>Ile</td>\n",
       "      <td>214027</td>\n",
       "      <td>149819.0</td>\n",
       "      <td>29964.0</td>\n",
       "      <td>71913.0</td>\n",
       "      <td>77906.0</td>\n",
       "      <td>12780.0</td>\n",
       "      <td>12390.0</td>\n",
       "      <td>25170.0</td>\n",
       "      <td>10068.0</td>\n",
       "    </tr>\n",
       "    <tr>\n",
       "      <th>5</th>\n",
       "      <td>Lugela</td>\n",
       "      <td>202427</td>\n",
       "      <td>141699.0</td>\n",
       "      <td>28340.0</td>\n",
       "      <td>68016.0</td>\n",
       "      <td>73683.0</td>\n",
       "      <td>12087.0</td>\n",
       "      <td>11719.0</td>\n",
       "      <td>23806.0</td>\n",
       "      <td>9522.0</td>\n",
       "    </tr>\n",
       "    <tr>\n",
       "      <th>6</th>\n",
       "      <td>Mocuba</td>\n",
       "      <td>446118</td>\n",
       "      <td>312283.0</td>\n",
       "      <td>62457.0</td>\n",
       "      <td>149896.0</td>\n",
       "      <td>162387.0</td>\n",
       "      <td>26638.0</td>\n",
       "      <td>25826.0</td>\n",
       "      <td>52464.0</td>\n",
       "      <td>20986.0</td>\n",
       "    </tr>\n",
       "    <tr>\n",
       "      <th>7</th>\n",
       "      <td>Morrumbala</td>\n",
       "      <td>410675</td>\n",
       "      <td>287472.0</td>\n",
       "      <td>57494.0</td>\n",
       "      <td>137987.0</td>\n",
       "      <td>149485.0</td>\n",
       "      <td>24521.0</td>\n",
       "      <td>23774.0</td>\n",
       "      <td>48295.0</td>\n",
       "      <td>19318.0</td>\n",
       "    </tr>\n",
       "    <tr>\n",
       "      <th>8</th>\n",
       "      <td>Mulevala</td>\n",
       "      <td>117370</td>\n",
       "      <td>82159.0</td>\n",
       "      <td>16432.0</td>\n",
       "      <td>39436.0</td>\n",
       "      <td>42723.0</td>\n",
       "      <td>7008.0</td>\n",
       "      <td>6795.0</td>\n",
       "      <td>13803.0</td>\n",
       "      <td>5521.0</td>\n",
       "    </tr>\n",
       "    <tr>\n",
       "      <th>9</th>\n",
       "      <td>Namarroi</td>\n",
       "      <td>157854</td>\n",
       "      <td>110498.0</td>\n",
       "      <td>22100.0</td>\n",
       "      <td>53039.0</td>\n",
       "      <td>57459.0</td>\n",
       "      <td>9425.0</td>\n",
       "      <td>9138.0</td>\n",
       "      <td>18563.0</td>\n",
       "      <td>7425.0</td>\n",
       "    </tr>\n",
       "  </tbody>\n",
       "</table>\n",
       "</div>"
      ],
      "text/plain": [
       "        district  population   pop_target  household      male    female  \\\n",
       "0  Alto Molocue        384472    269130.0    53826.0  129182.0  139948.0   \n",
       "1           Dere       121763     85234.0    17047.0   40912.0   44322.0   \n",
       "2           Gile       237367    166157.0    33231.0   79755.0   86402.0   \n",
       "3          Gurue       465560    325892.0    65178.0  156428.0  169464.0   \n",
       "4            Ile       214027    149819.0    29964.0   71913.0   77906.0   \n",
       "5         Lugela       202427    141699.0    28340.0   68016.0   73683.0   \n",
       "6         Mocuba       446118    312283.0    62457.0  149896.0  162387.0   \n",
       "7    Morrumbala        410675    287472.0    57494.0  137987.0  149485.0   \n",
       "8       Mulevala       117370     82159.0    16432.0   39436.0   42723.0   \n",
       "9       Namarroi       157854    110498.0    22100.0   53039.0   57459.0   \n",
       "\n",
       "       boy     girl       u5       u2  \n",
       "0  22957.0  22257.0  45214.0  18086.0  \n",
       "1   7270.0   7049.0  14319.0   5728.0  \n",
       "2  14173.0  13741.0  27914.0  11166.0  \n",
       "3  27799.0  26951.0  54750.0  21900.0  \n",
       "4  12780.0  12390.0  25170.0  10068.0  \n",
       "5  12087.0  11719.0  23806.0   9522.0  \n",
       "6  26638.0  25826.0  52464.0  20986.0  \n",
       "7  24521.0  23774.0  48295.0  19318.0  \n",
       "8   7008.0   6795.0  13803.0   5521.0  \n",
       "9   9425.0   9138.0  18563.0   7425.0  "
      ]
     },
     "execution_count": 5,
     "metadata": {},
     "output_type": "execute_result"
    }
   ],
   "source": [
    "#  adding a colunn for 70% of population \n",
    "df['pop_target']=round(df['population ']*0.70)\n",
    "\n",
    "# adding a colunn for  number of  households \n",
    "df['household'] = round(df['pop_target']/5)\n",
    "\n",
    "# adding a colunn for number of males\n",
    "df['male'] = round(df['pop_target']*0.48)\n",
    "\n",
    "# adding a colunn for number of females\n",
    "df['female'] = round(df['pop_target']*0.52 )\n",
    "\n",
    "# adding a colunn for number of boy < 5\n",
    "df['boy'] = round(df['pop_target']*0.0853 )\n",
    "\n",
    "# adding a colunn for number of girl < 5\n",
    "df['girl'] = round(df['pop_target']*0.0827 )\n",
    "\n",
    "# adding a colunn for number of children < 5\n",
    "df['u5'] = round(df['girl'] +df['boy'])\n",
    "\n",
    "# adding a colunn for number of boy < 2\n",
    "df['u2'] = round(df['u5']*0.40 )\n",
    "\n",
    "df"
   ]
  },
  {
   "cell_type": "code",
   "execution_count": 6,
   "metadata": {},
   "outputs": [
    {
     "data": {
      "text/plain": [
       "2757633"
      ]
     },
     "execution_count": 6,
     "metadata": {},
     "output_type": "execute_result"
    }
   ],
   "source": [
    "tot_population= df['population '].sum()\n",
    "tot_population"
   ]
  },
  {
   "cell_type": "code",
   "execution_count": 7,
   "metadata": {},
   "outputs": [
    {
     "name": "stdout",
     "output_type": "stream",
     "text": [
      "2838432\n",
      "2921598\n",
      "3007201\n",
      "3095311\n",
      "3186004\n",
      "3279354\n"
     ]
    }
   ],
   "source": [
    "# period from 2001 to 2006 are respectively \n",
    "\n",
    "period = [1,2,3,4,5,6]\n",
    "\n",
    "# calculating population growth for year 2021 to 2026\n",
    "\n",
    "list1= []\n",
    "\n",
    "for i in period:\n",
    "    growth_pop = round(tot_population * (pow(1.0293,i)))\n",
    "    list1.append(growth_pop)\n",
    "    print(growth_pop)\n",
    "        "
   ]
  },
  {
   "cell_type": "code",
   "execution_count": 18,
   "metadata": {},
   "outputs": [
    {
     "data": {
      "text/plain": [
       "[83166, 85603, 88110, 90693, 93350]"
      ]
     },
     "execution_count": 18,
     "metadata": {},
     "output_type": "execute_result"
    }
   ],
   "source": [
    "#  calculating number population incremental per year\n",
    "c = [list1[i+1] - list1[i] for i in range(len(list1)-1)]\n",
    "c      "
   ]
  },
  {
   "cell_type": "code",
   "execution_count": 9,
   "metadata": {},
   "outputs": [
    {
     "name": "stdout",
     "output_type": "stream",
     "text": [
      "1986902\n",
      "2045119\n",
      "2105041\n",
      "2166718\n",
      "2230203\n",
      "2295548\n"
     ]
    }
   ],
   "source": [
    "# calculating 70% target population for year 2021 to 2026\n",
    "\n",
    "list2 =[]\n",
    "for n in list1:\n",
    "    target_pop_year =round(n * 0.70)\n",
    "    list2.append(target_pop_year)\n",
    "    print(target_pop_year)"
   ]
  },
  {
   "cell_type": "code",
   "execution_count": 19,
   "metadata": {},
   "outputs": [
    {
     "data": {
      "text/plain": [
       "[58217, 59922, 61677, 63485, 65345]"
      ]
     },
     "execution_count": 19,
     "metadata": {},
     "output_type": "execute_result"
    }
   ],
   "source": [
    "#  calculating number target incremental per year\n",
    "d = [list2[i+1] - list2[i] for i in range(len(list2)-1)]\n",
    "d      "
   ]
  },
  {
   "cell_type": "code",
   "execution_count": 10,
   "metadata": {},
   "outputs": [
    {
     "name": "stdout",
     "output_type": "stream",
     "text": [
      "397380\n",
      "409024\n",
      "421008\n",
      "433344\n",
      "446041\n",
      "459110\n"
     ]
    }
   ],
   "source": [
    "# calculating  number of targeted households  for year 2021 to 2026\n",
    "list3 = []\n",
    "\n",
    "for x in list2:\n",
    "    household_year =round(x / 5)\n",
    "    list3.append(household_year)\n",
    "    print(household_year)"
   ]
  },
  {
   "cell_type": "code",
   "execution_count": null,
   "metadata": {},
   "outputs": [],
   "source": []
  }
 ],
 "metadata": {
  "kernelspec": {
   "display_name": "Python 3",
   "language": "python",
   "name": "python3"
  },
  "language_info": {
   "codemirror_mode": {
    "name": "ipython",
    "version": 3
   },
   "file_extension": ".py",
   "mimetype": "text/x-python",
   "name": "python",
   "nbconvert_exporter": "python",
   "pygments_lexer": "ipython3",
   "version": "3.8.5"
  }
 },
 "nbformat": 4,
 "nbformat_minor": 4
}
