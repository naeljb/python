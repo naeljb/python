{
  "nbformat": 4,
  "nbformat_minor": 0,
  "metadata": {
    "colab": {
      "provenance": [],
      "authorship_tag": "ABX9TyOA03cpTuOAkhzzWMza3xa7",
      "include_colab_link": true
    },
    "kernelspec": {
      "name": "python3",
      "display_name": "Python 3"
    },
    "language_info": {
      "name": "python"
    }
  },
  "cells": [
    {
      "cell_type": "markdown",
      "metadata": {
        "id": "view-in-github",
        "colab_type": "text"
      },
      "source": [
        "<a href=\"https://colab.research.google.com/github/naeljb/python/blob/branch-1/kobo_in_python_version_github.ipynb\" target=\"_parent\"><img src=\"https://colab.research.google.com/assets/colab-badge.svg\" alt=\"Open In Colab\"/></a>"
      ]
    },
    {
      "cell_type": "markdown",
      "source": [
        "# 1. kobo information (account API key, form ID, kobo url)\n",
        "\n",
        "A variable \"my_token\" is being assigned a string value. This string is meant to represent your personal API token for KoboToolbox. The API token is a key that allows your script to access your KoboToolbox data. It's crucial that this token is kept secure and not shared, as anyone with the token can access your KoboToolbox data.\n",
        "\n",
        "A specific form ID is assigned to the variable form_id. This ID is used to identify which form's data you want to access in KoboToolbox.\n",
        "\n",
        " A variable \" kobo_base_url is  being assigned a string. it represent the the base URL of your KoboToolbox API. This URL is where your script will send requests to interact with your KoboToolbox account."
      ],
      "metadata": {
        "id": "0teTSt1g0WTw"
      }
    },
    {
      "cell_type": "code",
      "source": [
        "my_token = 'Your_api_key' # Replace 'your_api_key' with your KoboToolbox account API key(more info: https://support.kobotoolbox.org/api.html )\n",
        "form_id = 'Your_form_ID' # Replace 'your_from_ID' with the ID of the form from which you want to fetch data\n",
        "kobo_base_url= 'Your_kobo_url' #'Replace 'Your_kobo_url' with the appropriate base URL for your KoboToolbox instance"
      ],
      "metadata": {
        "id": "c7Do5Dw90r06"
      },
      "execution_count": 9,
      "outputs": []
    },
    {
      "cell_type": "markdown",
      "source": [
        "# 2. Install and import koboextractor into colab\n",
        "\n",
        "The command  below \"!pip install koboextractor\" in Google Colab is used to install the koboextractor Python package. It is not installed into you local machine but in the google colab cloud. This package facilitates data extraction from KoboToolbox, a tool for data collection. The ! indicates a shell command in Colab, while pip install is the standard Python command to add new packages. Once installed,you can use koboextractor in you Colab notebook for accessing and manipulating KoboToolbox data.\n",
        "\n",
        "from koboextractor import KoboExtractor: This line imports the KoboExtractor class from the koboextractor module. KoboExtractor is a Python class that facilitates the extraction of data from KoboToolbox."
      ],
      "metadata": {
        "id": "8lo0mLnb41pO"
      }
    },
    {
      "cell_type": "code",
      "execution_count": null,
      "metadata": {
        "id": "r2Z6HwshwQyw"
      },
      "outputs": [],
      "source": [
        "!pip install koboextractor"
      ]
    },
    {
      "cell_type": "code",
      "source": [
        "from koboextractor import KoboExtractor"
      ],
      "metadata": {
        "id": "F0-aqgXFw5Nb"
      },
      "execution_count": 11,
      "outputs": []
    },
    {
      "cell_type": "markdown",
      "source": [
        "# 3. Access your kobo account using your token\n",
        "\n",
        "\n",
        "\n",
        " This line creates an instance of the KoboExtractor class. It passes two arguments to the constructor of this class:\n",
        "\n",
        "  my_token: Your KoboToolbox API token.\n",
        "  \n",
        "  kobo_base_url\n",
        "\n",
        "\n",
        "In summary, this script sets up the necessary tools and authentication to extract data from a KoboToolbox account using Python. After these lines, you would typically find code that uses the kobo object to fetch, process, and analyze data from KoboToolbox surveys."
      ],
      "metadata": {
        "id": "KfXxgUSG8HmL"
      }
    },
    {
      "cell_type": "code",
      "source": [
        "# Initialize the instance of KoboExtractor\n",
        "kobo = KoboExtractor(my_token, kobo_base_url)"
      ],
      "metadata": {
        "id": "Zpha-W8UxATt"
      },
      "execution_count": 12,
      "outputs": []
    },
    {
      "cell_type": "markdown",
      "source": [
        "## 4. Fetch data submitted to a specific form\n",
        "\n",
        "data = kobo.get_data(...): This line calls the get_data method of the KoboExtractor object (kobo) created earlier. The method is used to fetch data from the specified form. The parameters are:\n",
        "\n",
        "  * form_id: The ID of the form you're accessing.\n",
        "\n",
        "  * query=None: An optional parameter for filtering data. None means no filter is applied.\n",
        "\n",
        "  * start=None, limit=None: Optional parameters for paginating the results. None means no pagination is applied.\n",
        "\n",
        "  * submitted_after='2022-06-26T8:45:00': Fetches form submissions that occurred after this specified date and time."
      ],
      "metadata": {
        "id": "0XJxYric9wbV"
      }
    },
    {
      "cell_type": "code",
      "source": [
        "data = kobo.get_data(form_id, query=None, start=None, limit=None, submitted_after= None)"
      ],
      "metadata": {
        "id": "rXDZ1leUxGyF"
      },
      "execution_count": 13,
      "outputs": []
    },
    {
      "cell_type": "code",
      "source": [
        "# Showing the fetched data\n",
        "data"
      ],
      "metadata": {
        "id": "ZjJ9zosmxOcm"
      },
      "execution_count": null,
      "outputs": []
    },
    {
      "cell_type": "markdown",
      "source": [
        "From the above output, you can see that the feteched data is returned in the format of a  heararchical and nested JSON. This hierarchical and nested structure allows JSON to represent complex data in an organized and readable manner. It's widely used in web APIs, configuration files, and data exchange between a server and web applications.\n",
        "\n",
        "We can also see that it has three keys: next, previous and results.  The results key  contains the actual data from the form submissions."
      ],
      "metadata": {
        "id": "F5hb6V1z262I"
      }
    },
    {
      "cell_type": "markdown",
      "source": [],
      "metadata": {
        "id": "RPXb0RfzsK1p"
      }
    },
    {
      "cell_type": "markdown",
      "source": [
        "## 4.a. Convert your data from json to a dataframe\n",
        " We need to flatten the JSON data into a table-like structure, creating a pandas DataFrame. We takes the results key from the data dictionary, which contains the actual data from the form submissions, and converts it into a DataFrame. To do that we need to import pandas module. Pandas is a widely-used data analysis library in Python, known for its DataFrame structure that simplifies data manipulation."
      ],
      "metadata": {
        "id": "06K7QAuq3fUX"
      }
    },
    {
      "cell_type": "code",
      "source": [
        "import pandas as pd"
      ],
      "metadata": {
        "id": "TT2OJ9gz1No0"
      },
      "execution_count": 15,
      "outputs": []
    },
    {
      "cell_type": "code",
      "source": [
        "df = pd.json_normalize(data['results'])\n",
        "# preview your data\n",
        "df.head()"
      ],
      "metadata": {
        "id": "G0HEUlXMxXLf"
      },
      "execution_count": null,
      "outputs": []
    }
  ]
}